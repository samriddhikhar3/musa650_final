{
 "cells": [
  {
   "cell_type": "code",
   "execution_count": 1,
   "id": "2eb12db8-5bd5-4804-aa96-fce55639bf0f",
   "metadata": {},
   "outputs": [],
   "source": [
    "import ee\n",
    "import geemap\n",
    "import rasterio\n",
    "from rasterio.plot import show"
   ]
  },
  {
   "cell_type": "code",
   "execution_count": 3,
   "id": "cfb6613c-c179-4ae6-8136-2e46187d3bea",
   "metadata": {},
   "outputs": [
    {
     "data": {
      "text/html": [
       "\n",
       "            <style>\n",
       "                .geemap-dark {\n",
       "                    --jp-widgets-color: white;\n",
       "                    --jp-widgets-label-color: white;\n",
       "                    --jp-ui-font-color1: white;\n",
       "                    --jp-layout-color2: #454545;\n",
       "                    background-color: #383838;\n",
       "                }\n",
       "\n",
       "                .geemap-dark .jupyter-button {\n",
       "                    --jp-layout-color3: #383838;\n",
       "                }\n",
       "\n",
       "                .geemap-colab {\n",
       "                    background-color: var(--colab-primary-surface-color, white);\n",
       "                }\n",
       "\n",
       "                .geemap-colab .jupyter-button {\n",
       "                    --jp-layout-color3: var(--colab-primary-surface-color, white);\n",
       "                }\n",
       "            </style>\n",
       "            "
      ],
      "text/plain": [
       "<IPython.core.display.HTML object>"
      ]
     },
     "metadata": {},
     "output_type": "display_data"
    },
    {
     "name": "stdout",
     "output_type": "stream",
     "text": [
      "To authorize access needed by Earth Engine, open the following URL in a web browser and follow the instructions. If the web browser does not start automatically, please manually browse the URL below.\n",
      "\n",
      "    https://accounts.google.com/o/oauth2/auth?client_id=517222506229-vsmmajv00ul0bs7p89v5m89qs8eb9359.apps.googleusercontent.com&scope=https%3A%2F%2Fwww.googleapis.com%2Fauth%2Fearthengine+https%3A%2F%2Fwww.googleapis.com%2Fauth%2Fcloud-platform+https%3A%2F%2Fwww.googleapis.com%2Fauth%2Fdevstorage.full_control&redirect_uri=http%3A%2F%2Flocalhost%3A8085&response_type=code&code_challenge=9NkAD1-1uxWTHS53QaiJeldgZx_9UucwVt3lVSzycO8&code_challenge_method=S256\n",
      "\n",
      "Waiting for successful authorization from web browser ...\n",
      "\n",
      "Successfully saved authorization token.\n",
      "Number of images in the filtered collection: 966\n"
     ]
    }
   ],
   "source": [
    "# Authenticate and initialize Earth Engine\n",
    "!earthengine authenticate --force\n",
    "\n",
    "# Specify your Earth Engine project ID\n",
    "project_id = 'musa650-final-sk-rg'\n",
    "\n",
    "# Initialize Earth Engine with your project ID\n",
    "ee.Initialize(project=project_id)\n",
    "\n",
    "# Define the area of interest (AOI) as a GeoJSON polygon\n",
    "aoi_coords = [\n",
    "    [92.59850521269148,26.444817468598444],\n",
    "    [93.10112972441023,26.444817468598444],\n",
    "    [93.10112972441023,26.876818694646087],\n",
    "    [92.59850521269148,26.876818694646087],\n",
    "    [92.59850521269148,26.444817468598444]]\n",
    "\n",
    "aoi = ee.Geometry.Polygon(aoi_coords)\n",
    "\n",
    "# Define the time range\n",
    "start_date = '2015-01-01'\n",
    "end_date = '2023-12-31'\n",
    "\n",
    "# Create an image collection and filter by date and location\n",
    "collection = (ee.ImageCollection(\"GOOGLE/DYNAMICWORLD/V1\")\n",
    "              .filterBounds(aoi)\n",
    "              .filterDate(start_date, end_date))\n",
    "\n",
    "# Select bands of interest\n",
    "selected_bands = ['water','trees','grass','flooded_vegetation','crops','shrub_and_scrub','built','bare','snow_and_ice',\t\n",
    "'label']\n",
    "\n",
    "# Iterate over each image in the collection\n",
    "for image in collection.toList(collection.size()).getInfo():\n",
    "    # Get the image ID\n",
    "    image_id = image['id']\n",
    "    \n",
    "    # Clip the image to the AOI\n",
    "    clipped_image = ee.Image(image_id).clip(aoi)\n",
    "\n",
    "# Print the size of the filtered collection\n",
    "#print(\"Number of images in the filtered collection:\", collection.size().getInfo())\n",
    "    \n"
   ]
  },
  {
   "cell_type": "code",
   "execution_count": 84,
   "id": "e7c128e9-3dcd-4689-9845-5b13e5b59559",
   "metadata": {},
   "outputs": [
    {
     "data": {
      "text/html": [
       "\n",
       "            <style>\n",
       "                .geemap-dark {\n",
       "                    --jp-widgets-color: white;\n",
       "                    --jp-widgets-label-color: white;\n",
       "                    --jp-ui-font-color1: white;\n",
       "                    --jp-layout-color2: #454545;\n",
       "                    background-color: #383838;\n",
       "                }\n",
       "\n",
       "                .geemap-dark .jupyter-button {\n",
       "                    --jp-layout-color3: #383838;\n",
       "                }\n",
       "\n",
       "                .geemap-colab {\n",
       "                    background-color: var(--colab-primary-surface-color, white);\n",
       "                }\n",
       "\n",
       "                .geemap-colab .jupyter-button {\n",
       "                    --jp-layout-color3: var(--colab-primary-surface-color, white);\n",
       "                }\n",
       "            </style>\n",
       "            "
      ],
      "text/plain": [
       "<IPython.core.display.HTML object>"
      ]
     },
     "metadata": {},
     "output_type": "display_data"
    },
    {
     "name": "stdout",
     "output_type": "stream",
     "text": [
      "First image with label: 20151206T042142_20151206T042447_T46RDQ\n"
     ]
    }
   ],
   "source": [
    "# Define a function to add a metadata property with unique label names to each image\n",
    "def addLabel(image):\n",
    "    # Get the image ID\n",
    "    image_id = image.id()\n",
    "    # Add a metadata property with a unique label name\n",
    "    return image.set('label', image_id)\n",
    "\n",
    "# Apply the function to each image in the collection to add unique label names\n",
    "labeled_collection = collection.map(addLabel)\n",
    "\n",
    "# Print the first image in the collection to verify that the label property has been added\n",
    "first_image = labeled_collection.first()\n",
    "print(\"First image with label:\", first_image.get('label').getInfo())"
   ]
  },
  {
   "cell_type": "code",
   "execution_count": 56,
   "id": "855a0fe9-5e33-4bf3-bf14-1fe2dda35040",
   "metadata": {},
   "outputs": [
    {
     "data": {
      "text/html": [
       "\n",
       "            <style>\n",
       "                .geemap-dark {\n",
       "                    --jp-widgets-color: white;\n",
       "                    --jp-widgets-label-color: white;\n",
       "                    --jp-ui-font-color1: white;\n",
       "                    --jp-layout-color2: #454545;\n",
       "                    background-color: #383838;\n",
       "                }\n",
       "\n",
       "                .geemap-dark .jupyter-button {\n",
       "                    --jp-layout-color3: #383838;\n",
       "                }\n",
       "\n",
       "                .geemap-colab {\n",
       "                    background-color: var(--colab-primary-surface-color, white);\n",
       "                }\n",
       "\n",
       "                .geemap-colab .jupyter-button {\n",
       "                    --jp-layout-color3: var(--colab-primary-surface-color, white);\n",
       "                }\n",
       "            </style>\n",
       "            "
      ],
      "text/plain": [
       "<IPython.core.display.HTML object>"
      ]
     },
     "metadata": {},
     "output_type": "display_data"
    },
    {
     "name": "stdout",
     "output_type": "stream",
     "text": [
      "Export tasks started.\n"
     ]
    }
   ],
   "source": [
    "# Iterate over each image in the collection\n",
    "image_list = collection.toList(collection.size())\n",
    "for i in range(image_list.size().getInfo()):\n",
    "    # Get the image\n",
    "    image = ee.Image(image_list.get(i))\n",
    "    \n",
    "    # Define the filename for the exported image\n",
    "    image_id = image.id().getInfo()  # Get the image ID\n",
    "    filename = \"image_\" + image_id  # Construct filename as desired\n",
    "    \n",
    "    # Export the image to Google Drive as GeoTIFF\n",
    "    task = ee.batch.Export.image.toDrive(image=image,\n",
    "                                          description=filename,\n",
    "                                          folder='./data',\n",
    "                                          fileNamePrefix=filename,\n",
    "                                          scale=10)  # Adjust scale as needed\n",
    "    task.start()\n",
    "\n",
    "print(\"Export tasks started.\")"
   ]
  },
  {
   "cell_type": "code",
   "execution_count": 42,
   "id": "9b0a8bfa-654a-4b40-9d15-1cfba12ebeb6",
   "metadata": {},
   "outputs": [
    {
     "data": {
      "text/html": [
       "\n",
       "            <style>\n",
       "                .geemap-dark {\n",
       "                    --jp-widgets-color: white;\n",
       "                    --jp-widgets-label-color: white;\n",
       "                    --jp-ui-font-color1: white;\n",
       "                    --jp-layout-color2: #454545;\n",
       "                    background-color: #383838;\n",
       "                }\n",
       "\n",
       "                .geemap-dark .jupyter-button {\n",
       "                    --jp-layout-color3: #383838;\n",
       "                }\n",
       "\n",
       "                .geemap-colab {\n",
       "                    background-color: var(--colab-primary-surface-color, white);\n",
       "                }\n",
       "\n",
       "                .geemap-colab .jupyter-button {\n",
       "                    --jp-layout-color3: var(--colab-primary-surface-color, white);\n",
       "                }\n",
       "            </style>\n",
       "            "
      ],
      "text/plain": [
       "<IPython.core.display.HTML object>"
      ]
     },
     "metadata": {},
     "output_type": "display_data"
    }
   ],
   "source": [
    "# Extract label names from the images in the collection\n",
    "label_names = labeled_collection.aggregate_array('label').getInfo()\n",
    "\n",
    "# Print the list of label names\n",
    "#print(\"List of label names:\")\n",
    "#print(label_names)"
   ]
  },
  {
   "cell_type": "code",
   "execution_count": 83,
   "id": "2fda763e-39a6-4ca4-9a7b-8bdcf572cdf3",
   "metadata": {},
   "outputs": [
    {
     "data": {
      "text/html": [
       "\n",
       "            <style>\n",
       "                .geemap-dark {\n",
       "                    --jp-widgets-color: white;\n",
       "                    --jp-widgets-label-color: white;\n",
       "                    --jp-ui-font-color1: white;\n",
       "                    --jp-layout-color2: #454545;\n",
       "                    background-color: #383838;\n",
       "                }\n",
       "\n",
       "                .geemap-dark .jupyter-button {\n",
       "                    --jp-layout-color3: #383838;\n",
       "                }\n",
       "\n",
       "                .geemap-colab {\n",
       "                    background-color: var(--colab-primary-surface-color, white);\n",
       "                }\n",
       "\n",
       "                .geemap-colab .jupyter-button {\n",
       "                    --jp-layout-color3: var(--colab-primary-surface-color, white);\n",
       "                }\n",
       "            </style>\n",
       "            "
      ],
      "text/plain": [
       "<IPython.core.display.HTML object>"
      ]
     },
     "metadata": {},
     "output_type": "display_data"
    },
    {
     "name": "stdout",
     "output_type": "stream",
     "text": [
      "Export tasks started.\n"
     ]
    }
   ],
   "source": [
    "# Iterate over each image in the collection\n",
    "image_list = collection.toList(collection.size())\n",
    "for i in range(image_list.size().getInfo()):\n",
    "    # Get the image\n",
    "    image = ee.Image(image_list.get(i))\n",
    "    \n",
    "    # Define the filename for the exported image\n",
    "    image_id = image.id().getInfo()  # Get the image ID\n",
    "    filename = f\"image_{image_id}\"  # Construct filename with the image ID\n",
    "    \n",
    "    # Export the image to Google Drive as GeoTIFF\n",
    "    task = ee.batch.Export.image.toDrive(image=image,\n",
    "                                          description=filename,\n",
    "                                          folder='./data',\n",
    "                                          fileNamePrefix=filename,\n",
    "                                          scale=10)  # Adjust scale as needed\n",
    "    task.start()\n",
    "\n",
    "print(\"Export tasks started.\")\n"
   ]
  },
  {
   "cell_type": "code",
   "execution_count": 46,
   "id": "0e1f8454-7c89-4fda-b011-8b8656a6efe2",
   "metadata": {},
   "outputs": [
    {
     "data": {
      "text/html": [
       "\n",
       "            <style>\n",
       "                .geemap-dark {\n",
       "                    --jp-widgets-color: white;\n",
       "                    --jp-widgets-label-color: white;\n",
       "                    --jp-ui-font-color1: white;\n",
       "                    --jp-layout-color2: #454545;\n",
       "                    background-color: #383838;\n",
       "                }\n",
       "\n",
       "                .geemap-dark .jupyter-button {\n",
       "                    --jp-layout-color3: #383838;\n",
       "                }\n",
       "\n",
       "                .geemap-colab {\n",
       "                    background-color: var(--colab-primary-surface-color, white);\n",
       "                }\n",
       "\n",
       "                .geemap-colab .jupyter-button {\n",
       "                    --jp-layout-color3: var(--colab-primary-surface-color, white);\n",
       "                }\n",
       "            </style>\n",
       "            "
      ],
      "text/plain": [
       "<IPython.core.display.HTML object>"
      ]
     },
     "metadata": {},
     "output_type": "display_data"
    }
   ],
   "source": [
    "from IPython.display import Image"
   ]
  },
  {
   "cell_type": "code",
   "execution_count": null,
   "id": "fe1f3d55-370f-42fe-af04-aee4465f256e",
   "metadata": {},
   "outputs": [
    {
     "data": {
      "text/html": [
       "\n",
       "            <style>\n",
       "                .geemap-dark {\n",
       "                    --jp-widgets-color: white;\n",
       "                    --jp-widgets-label-color: white;\n",
       "                    --jp-ui-font-color1: white;\n",
       "                    --jp-layout-color2: #454545;\n",
       "                    background-color: #383838;\n",
       "                }\n",
       "\n",
       "                .geemap-dark .jupyter-button {\n",
       "                    --jp-layout-color3: #383838;\n",
       "                }\n",
       "\n",
       "                .geemap-colab {\n",
       "                    background-color: var(--colab-primary-surface-color, white);\n",
       "                }\n",
       "\n",
       "                .geemap-colab .jupyter-button {\n",
       "                    --jp-layout-color3: var(--colab-primary-surface-color, white);\n",
       "                }\n",
       "            </style>\n",
       "            "
      ],
      "text/plain": [
       "<IPython.core.display.HTML object>"
      ]
     },
     "metadata": {},
     "output_type": "display_data"
    }
   ],
   "source": [
    "import ee\n",
    "import os\n",
    "import time\n",
    "\n",
    "# Authenticate to Earth Engine\n",
    "# ee.Authenticate()\n",
    "ee.Initialize()\n",
    "\n",
    "# Get the current timestamp to ensure unique filenames\n",
    "current_timestamp = int(time.time())\n",
    "\n",
    "# Define the output directory\n",
    "output_dir = \"./data\"\n",
    "\n",
    "# Create the output directory if it doesn't exist\n",
    "if not os.path.exists(output_dir):\n",
    "    os.makedirs(output_dir)\n",
    "\n",
    "# Iterate over each image in the collection\n",
    "image_list = collection.toList(collection.size())\n",
    "for i in range(image_list.size().getInfo()):\n",
    "    # Get the image\n",
    "    image = ee.Image(image_list.get(i))\n",
    "    \n",
    "    # Get the image ID\n",
    "    image_id = image.id().getInfo()\n",
    "    \n",
    "    # Define the filename for the exported image with a unique timestamp\n",
    "    filename = f\"image_{image_id}_{current_timestamp}.tif\"  # Use .tif extension\n",
    "    \n",
    "    # Export the image to the local machine as GeoTIFF\n",
    "    task = ee.batch.Export.image.toDrive(image=image,\n",
    "                                          description=filename,\n",
    "                                          folder=output_dir,\n",
    "                                          fileNamePrefix=filename,\n",
    "                                          scale=10)  # Adjust scale as needed\n",
    "    task.start()\n",
    "\n",
    "print(\"Export tasks started.\")\n"
   ]
  },
  {
   "cell_type": "code",
   "execution_count": 85,
   "id": "0f75da97-8927-4f68-8c7f-803e25775bb5",
   "metadata": {},
   "outputs": [
    {
     "data": {
      "text/html": [
       "\n",
       "            <style>\n",
       "                .geemap-dark {\n",
       "                    --jp-widgets-color: white;\n",
       "                    --jp-widgets-label-color: white;\n",
       "                    --jp-ui-font-color1: white;\n",
       "                    --jp-layout-color2: #454545;\n",
       "                    background-color: #383838;\n",
       "                }\n",
       "\n",
       "                .geemap-dark .jupyter-button {\n",
       "                    --jp-layout-color3: #383838;\n",
       "                }\n",
       "\n",
       "                .geemap-colab {\n",
       "                    background-color: var(--colab-primary-surface-color, white);\n",
       "                }\n",
       "\n",
       "                .geemap-colab .jupyter-button {\n",
       "                    --jp-layout-color3: var(--colab-primary-surface-color, white);\n",
       "                }\n",
       "            </style>\n",
       "            "
      ],
      "text/plain": [
       "<IPython.core.display.HTML object>"
      ]
     },
     "metadata": {},
     "output_type": "display_data"
    },
    {
     "data": {
      "text/html": [
       "<img src=\"https://earthengine.googleapis.com/v1/projects/musa650-final-sk-rg/thumbnails/6d8afa8d072e048bbe2cad3ffdb114d5-11b90612edb41f7ca092c086308b5a09:getPixels\"/>"
      ],
      "text/plain": [
       "<IPython.core.display.Image object>"
      ]
     },
     "execution_count": 85,
     "metadata": {},
     "output_type": "execute_result"
    }
   ],
   "source": [
    "# Get the first image in the collection\n",
    "first_image = collection.first()\n",
    "\n",
    "# Clip the first image to the AOI\n",
    "clipped_image = first_image.clip(aoi)\n",
    "\n",
    "# Get the image URL with specified bands\n",
    "image_url = clipped_image.getThumbURL({\n",
    "    'bands': ['built','trees','water'],  # Specify bands for visualization\n",
    "    'dimensions': 512,  # Thumbnail size\n",
    "   # 'region': aoi_coords,  # Region of interest\n",
    "})\n",
    "\n",
    "# Display the image\n",
    "Image(url=image_url)"
   ]
  },
  {
   "cell_type": "code",
   "execution_count": 90,
   "id": "95ecde55-6ca4-47b6-a166-35a37ab85dfd",
   "metadata": {},
   "outputs": [
    {
     "data": {
      "text/html": [
       "\n",
       "            <style>\n",
       "                .geemap-dark {\n",
       "                    --jp-widgets-color: white;\n",
       "                    --jp-widgets-label-color: white;\n",
       "                    --jp-ui-font-color1: white;\n",
       "                    --jp-layout-color2: #454545;\n",
       "                    background-color: #383838;\n",
       "                }\n",
       "\n",
       "                .geemap-dark .jupyter-button {\n",
       "                    --jp-layout-color3: #383838;\n",
       "                }\n",
       "\n",
       "                .geemap-colab {\n",
       "                    background-color: var(--colab-primary-surface-color, white);\n",
       "                }\n",
       "\n",
       "                .geemap-colab .jupyter-button {\n",
       "                    --jp-layout-color3: var(--colab-primary-surface-color, white);\n",
       "                }\n",
       "            </style>\n",
       "            "
      ],
      "text/plain": [
       "<IPython.core.display.HTML object>"
      ]
     },
     "metadata": {},
     "output_type": "display_data"
    },
    {
     "data": {
      "text/html": [
       "<img src=\"https://earthengine.googleapis.com/v1/projects/musa650-final-sk-rg/thumbnails/97b08115bd57d146e7f4f68743c82cfa-8d73b6bb18578473fc30814f38d0fa81:getPixels\"/>"
      ],
      "text/plain": [
       "<IPython.core.display.Image object>"
      ]
     },
     "execution_count": 90,
     "metadata": {},
     "output_type": "execute_result"
    }
   ],
   "source": [
    "# Define the label of the image you want to print\n",
    "specific_label = \"20231229T042159_20231229T042423_T46REQ\"  # Replace SPECIFIC_LABEL_ID with the desired label\n",
    "\n",
    "# Filter the collection to get the image with the specific label\n",
    "specific_image = labeled_collection.filterMetadata('label', 'equals', specific_label).first()\n",
    "\n",
    "# Get the thumbnail URL for the specific image\n",
    "specific_image_url = specific_image.getThumbUrl({\n",
    "    'bands': ['built', 'trees', 'water'],  # Specify bands for visualization\n",
    "    'dimensions': 512,  # Thumbnail size\n",
    "   # 'region': aoi_coords,  # Region of interest\n",
    "})\n",
    "\n",
    "# Display the specific image\n",
    "Image(url=specific_image_url)\n"
   ]
  },
  {
   "cell_type": "code",
   "execution_count": 6,
   "id": "ee233e65-2212-44a1-ab01-9d1ebe0b5c84",
   "metadata": {},
   "outputs": [
    {
     "data": {
      "text/html": [
       "\n",
       "            <style>\n",
       "                .geemap-dark {\n",
       "                    --jp-widgets-color: white;\n",
       "                    --jp-widgets-label-color: white;\n",
       "                    --jp-ui-font-color1: white;\n",
       "                    --jp-layout-color2: #454545;\n",
       "                    background-color: #383838;\n",
       "                }\n",
       "\n",
       "                .geemap-dark .jupyter-button {\n",
       "                    --jp-layout-color3: #383838;\n",
       "                }\n",
       "\n",
       "                .geemap-colab {\n",
       "                    background-color: var(--colab-primary-surface-color, white);\n",
       "                }\n",
       "\n",
       "                .geemap-colab .jupyter-button {\n",
       "                    --jp-layout-color3: var(--colab-primary-surface-color, white);\n",
       "                }\n",
       "            </style>\n",
       "            "
      ],
      "text/plain": [
       "<IPython.core.display.HTML object>"
      ]
     },
     "metadata": {},
     "output_type": "display_data"
    }
   ],
   "source": [
    "import numpy as np\n",
    "import os\n",
    "import time\n",
    "from pylandstats import Landscape"
   ]
  },
  {
   "cell_type": "code",
   "execution_count": 7,
   "id": "6e324db6-b491-419b-8679-32383e7cea9c",
   "metadata": {},
   "outputs": [
    {
     "data": {
      "text/html": [
       "\n",
       "            <style>\n",
       "                .geemap-dark {\n",
       "                    --jp-widgets-color: white;\n",
       "                    --jp-widgets-label-color: white;\n",
       "                    --jp-ui-font-color1: white;\n",
       "                    --jp-layout-color2: #454545;\n",
       "                    background-color: #383838;\n",
       "                }\n",
       "\n",
       "                .geemap-dark .jupyter-button {\n",
       "                    --jp-layout-color3: #383838;\n",
       "                }\n",
       "\n",
       "                .geemap-colab {\n",
       "                    background-color: var(--colab-primary-surface-color, white);\n",
       "                }\n",
       "\n",
       "                .geemap-colab .jupyter-button {\n",
       "                    --jp-layout-color3: var(--colab-primary-surface-color, white);\n",
       "                }\n",
       "            </style>\n",
       "            "
      ],
      "text/plain": [
       "<IPython.core.display.HTML object>"
      ]
     },
     "metadata": {},
     "output_type": "display_data"
    }
   ],
   "source": [
    "import warnings\n",
    "\n",
    "# Ignore all warnings\n",
    "warnings.filterwarnings(\"ignore\")"
   ]
  },
  {
   "cell_type": "code",
   "execution_count": 8,
   "id": "17d7d10b-43c4-4c52-b15a-112ef488c693",
   "metadata": {},
   "outputs": [
    {
     "data": {
      "text/html": [
       "\n",
       "            <style>\n",
       "                .geemap-dark {\n",
       "                    --jp-widgets-color: white;\n",
       "                    --jp-widgets-label-color: white;\n",
       "                    --jp-ui-font-color1: white;\n",
       "                    --jp-layout-color2: #454545;\n",
       "                    background-color: #383838;\n",
       "                }\n",
       "\n",
       "                .geemap-dark .jupyter-button {\n",
       "                    --jp-layout-color3: #383838;\n",
       "                }\n",
       "\n",
       "                .geemap-colab {\n",
       "                    background-color: var(--colab-primary-surface-color, white);\n",
       "                }\n",
       "\n",
       "                .geemap-colab .jupyter-button {\n",
       "                    --jp-layout-color3: var(--colab-primary-surface-color, white);\n",
       "                }\n",
       "            </style>\n",
       "            "
      ],
      "text/plain": [
       "<IPython.core.display.HTML object>"
      ]
     },
     "metadata": {},
     "output_type": "display_data"
    },
    {
     "name": "stdout",
     "output_type": "stream",
     "text": [
      "Metric: Edge Density\n",
      "Value: 89.2688842253415\n",
      "Processing Time: 302.2422 seconds\n",
      "---------------------------\n",
      "Metric: Number of Patches\n",
      "Value: 35021\n",
      "Processing Time: 0.7628 seconds\n",
      "---------------------------\n",
      "Metric: Patch Density\n",
      "Value: 0.34623783253955287\n",
      "Processing Time: 0.0000 seconds\n",
      "---------------------------\n",
      "Metric: Largest Patch Index\n",
      "Value: 5.53931517063138\n",
      "Processing Time: 1.4860 seconds\n",
      "---------------------------\n",
      "Metric: Fractal Dimension\n",
      "Value:        class_val  fractal_dimension\n",
      "0          100.0           1.000000\n",
      "1         3700.0           1.050984\n",
      "2        26100.0           1.131317\n",
      "3          900.0           1.084583\n",
      "4        87300.0           1.120076\n",
      "...          ...                ...\n",
      "35016     2000.0           1.136046\n",
      "35017      200.0           1.022230\n",
      "35018      100.0           1.000000\n",
      "35019      200.0           1.022230\n",
      "35020      100.0           1.000000\n",
      "\n",
      "[35021 rows x 2 columns]\n",
      "Processing Time: 3.4448 seconds\n",
      "---------------------------\n"
     ]
    },
    {
     "ename": "KeyboardInterrupt",
     "evalue": "",
     "output_type": "error",
     "traceback": [
      "\u001b[1;31m---------------------------------------------------------------------------\u001b[0m",
      "\u001b[1;31mAttributeError\u001b[0m                            Traceback (most recent call last)",
      "File \u001b[1;32mD:\\Fall_2023\\Python\\Mambaforge\\envs\\musa-650\\lib\\site-packages\\pylandstats\\landscape.py:610\u001b[0m, in \u001b[0;36mLandscape._patch_euclidean_nearest_neighbor_ser\u001b[1;34m(self)\u001b[0m\n\u001b[0;32m    609\u001b[0m \u001b[38;5;28;01mtry\u001b[39;00m:\n\u001b[1;32m--> 610\u001b[0m     \u001b[38;5;28;01mreturn\u001b[39;00m \u001b[38;5;28;43mself\u001b[39;49m\u001b[38;5;241;43m.\u001b[39;49m\u001b[43m_cached_patch_euclidean_nearest_neighbor_ser\u001b[49m\n\u001b[0;32m    611\u001b[0m \u001b[38;5;28;01mexcept\u001b[39;00m \u001b[38;5;167;01mAttributeError\u001b[39;00m:\n",
      "\u001b[1;31mAttributeError\u001b[0m: 'Landscape' object has no attribute '_cached_patch_euclidean_nearest_neighbor_ser'",
      "\nDuring handling of the above exception, another exception occurred:\n",
      "\u001b[1;31mKeyboardInterrupt\u001b[0m                         Traceback (most recent call last)",
      "Cell \u001b[1;32mIn[8], line 37\u001b[0m\n\u001b[0;32m     35\u001b[0m     metric_value \u001b[38;5;241m=\u001b[39m landscape\u001b[38;5;241m.\u001b[39mfractal_dimension()\n\u001b[0;32m     36\u001b[0m \u001b[38;5;28;01melif\u001b[39;00m metric_name \u001b[38;5;241m==\u001b[39m \u001b[38;5;124m\"\u001b[39m\u001b[38;5;124mEuclidean Nearest Neighbor\u001b[39m\u001b[38;5;124m\"\u001b[39m:\n\u001b[1;32m---> 37\u001b[0m     metric_value \u001b[38;5;241m=\u001b[39m \u001b[43mlandscape\u001b[49m\u001b[38;5;241;43m.\u001b[39;49m\u001b[43meuclidean_nearest_neighbor\u001b[49m\u001b[43m(\u001b[49m\u001b[43m)\u001b[49m\n\u001b[0;32m     38\u001b[0m \u001b[38;5;28;01melse\u001b[39;00m:\n\u001b[0;32m     39\u001b[0m     metric_value \u001b[38;5;241m=\u001b[39m \u001b[38;5;28;01mNone\u001b[39;00m\n",
      "File \u001b[1;32mD:\\Fall_2023\\Python\\Mambaforge\\envs\\musa-650\\lib\\site-packages\\pylandstats\\landscape.py:1055\u001b[0m, in \u001b[0;36mLandscape.euclidean_nearest_neighbor\u001b[1;34m(self, class_val)\u001b[0m\n\u001b[0;32m   1034\u001b[0m \u001b[38;5;28;01mdef\u001b[39;00m \u001b[38;5;21meuclidean_nearest_neighbor\u001b[39m(\u001b[38;5;28mself\u001b[39m, class_val\u001b[38;5;241m=\u001b[39m\u001b[38;5;28;01mNone\u001b[39;00m):\n\u001b[0;32m   1035\u001b[0m \u001b[38;5;250m    \u001b[39m\u001b[38;5;124mr\u001b[39m\u001b[38;5;124;03m\"\"\"\u001b[39;00m\n\u001b[0;32m   1036\u001b[0m \u001b[38;5;124;03m    Distance to the nearest neighboring patch of the same class.\u001b[39;00m\n\u001b[0;32m   1037\u001b[0m \n\u001b[1;32m   (...)\u001b[0m\n\u001b[0;32m   1053\u001b[0m \u001b[38;5;124;03m        neighbors decreases.\u001b[39;00m\n\u001b[0;32m   1054\u001b[0m \u001b[38;5;124;03m    \"\"\"\u001b[39;00m\n\u001b[1;32m-> 1055\u001b[0m     euclidean_nearest_neighbor_ser \u001b[38;5;241m=\u001b[39m \u001b[38;5;28;43mself\u001b[39;49m\u001b[38;5;241;43m.\u001b[39;49m\u001b[43m_get_patch_euclidean_nearest_neighbor_ser\u001b[49m\u001b[43m(\u001b[49m\n\u001b[0;32m   1056\u001b[0m \u001b[43m        \u001b[49m\u001b[43mclass_val\u001b[49m\n\u001b[0;32m   1057\u001b[0m \u001b[43m    \u001b[49m\u001b[43m)\u001b[49m\n\u001b[0;32m   1059\u001b[0m     \u001b[38;5;28;01mif\u001b[39;00m class_val \u001b[38;5;129;01mis\u001b[39;00m \u001b[38;5;28;01mNone\u001b[39;00m:\n\u001b[0;32m   1060\u001b[0m         \u001b[38;5;28;01mfor\u001b[39;00m class_val \u001b[38;5;129;01min\u001b[39;00m \u001b[38;5;28mself\u001b[39m\u001b[38;5;241m.\u001b[39mclasses:\n",
      "File \u001b[1;32mD:\\Fall_2023\\Python\\Mambaforge\\envs\\musa-650\\lib\\site-packages\\pylandstats\\landscape.py:715\u001b[0m, in \u001b[0;36mLandscape._get_patch_euclidean_nearest_neighbor_ser\u001b[1;34m(self, class_val, copy)\u001b[0m\n\u001b[0;32m    712\u001b[0m \u001b[38;5;28;01mdef\u001b[39;00m \u001b[38;5;21m_get_patch_euclidean_nearest_neighbor_ser\u001b[39m(\u001b[38;5;28mself\u001b[39m, class_val\u001b[38;5;241m=\u001b[39m\u001b[38;5;28;01mNone\u001b[39;00m, copy\u001b[38;5;241m=\u001b[39m\u001b[38;5;28;01mFalse\u001b[39;00m):\n\u001b[0;32m    713\u001b[0m     \u001b[38;5;28;01mif\u001b[39;00m class_val \u001b[38;5;129;01mis\u001b[39;00m \u001b[38;5;28;01mNone\u001b[39;00m:\n\u001b[0;32m    714\u001b[0m         patch_euclidean_nearest_neighbor_ser \u001b[38;5;241m=\u001b[39m (\n\u001b[1;32m--> 715\u001b[0m             \u001b[38;5;28;43mself\u001b[39;49m\u001b[38;5;241;43m.\u001b[39;49m\u001b[43m_patch_euclidean_nearest_neighbor_ser\u001b[49m\n\u001b[0;32m    716\u001b[0m         )\n\u001b[0;32m    717\u001b[0m     \u001b[38;5;28;01melse\u001b[39;00m:\n\u001b[0;32m    718\u001b[0m         patch_euclidean_nearest_neighbor_ser \u001b[38;5;241m=\u001b[39m (\n\u001b[0;32m    719\u001b[0m             \u001b[38;5;28mself\u001b[39m\u001b[38;5;241m.\u001b[39m_patch_euclidean_nearest_neighbor_ser[\n\u001b[0;32m    720\u001b[0m                 \u001b[38;5;28mself\u001b[39m\u001b[38;5;241m.\u001b[39m_patch_class_ser \u001b[38;5;241m==\u001b[39m class_val\n\u001b[0;32m    721\u001b[0m             ]\n\u001b[0;32m    722\u001b[0m         )\n",
      "File \u001b[1;32mD:\\Fall_2023\\Python\\Mambaforge\\envs\\musa-650\\lib\\site-packages\\pylandstats\\landscape.py:614\u001b[0m, in \u001b[0;36mLandscape._patch_euclidean_nearest_neighbor_ser\u001b[1;34m(self)\u001b[0m\n\u001b[0;32m    610\u001b[0m     \u001b[38;5;28;01mreturn\u001b[39;00m \u001b[38;5;28mself\u001b[39m\u001b[38;5;241m.\u001b[39m_cached_patch_euclidean_nearest_neighbor_ser\n\u001b[0;32m    611\u001b[0m \u001b[38;5;28;01mexcept\u001b[39;00m \u001b[38;5;167;01mAttributeError\u001b[39;00m:\n\u001b[0;32m    612\u001b[0m     \u001b[38;5;28mself\u001b[39m\u001b[38;5;241m.\u001b[39m_cached_patch_euclidean_nearest_neighbor_ser \u001b[38;5;241m=\u001b[39m pd\u001b[38;5;241m.\u001b[39mSeries(\n\u001b[0;32m    613\u001b[0m         np\u001b[38;5;241m.\u001b[39mconcatenate(\n\u001b[1;32m--> 614\u001b[0m             [\n\u001b[0;32m    615\u001b[0m                 \u001b[38;5;28mself\u001b[39m\u001b[38;5;241m.\u001b[39mcompute_patch_euclidean_nearest_neighbor(\n\u001b[0;32m    616\u001b[0m                     \u001b[38;5;28mself\u001b[39m\u001b[38;5;241m.\u001b[39mclass_label(class_val)[\u001b[38;5;241m0\u001b[39m]\n\u001b[0;32m    617\u001b[0m                 )\n\u001b[0;32m    618\u001b[0m                 \u001b[38;5;28;01mfor\u001b[39;00m class_val \u001b[38;5;129;01min\u001b[39;00m \u001b[38;5;28mself\u001b[39m\u001b[38;5;241m.\u001b[39mclasses\n\u001b[0;32m    619\u001b[0m             ]\n\u001b[0;32m    620\u001b[0m         ),\n\u001b[0;32m    621\u001b[0m         name\u001b[38;5;241m=\u001b[39m\u001b[38;5;124m\"\u001b[39m\u001b[38;5;124meuclidean_nearest_neighbor\u001b[39m\u001b[38;5;124m\"\u001b[39m,\n\u001b[0;32m    622\u001b[0m     )\n\u001b[0;32m    624\u001b[0m     \u001b[38;5;28;01mreturn\u001b[39;00m \u001b[38;5;28mself\u001b[39m\u001b[38;5;241m.\u001b[39m_cached_patch_euclidean_nearest_neighbor_ser\n",
      "File \u001b[1;32mD:\\Fall_2023\\Python\\Mambaforge\\envs\\musa-650\\lib\\site-packages\\pylandstats\\landscape.py:615\u001b[0m, in \u001b[0;36m<listcomp>\u001b[1;34m(.0)\u001b[0m\n\u001b[0;32m    610\u001b[0m     \u001b[38;5;28;01mreturn\u001b[39;00m \u001b[38;5;28mself\u001b[39m\u001b[38;5;241m.\u001b[39m_cached_patch_euclidean_nearest_neighbor_ser\n\u001b[0;32m    611\u001b[0m \u001b[38;5;28;01mexcept\u001b[39;00m \u001b[38;5;167;01mAttributeError\u001b[39;00m:\n\u001b[0;32m    612\u001b[0m     \u001b[38;5;28mself\u001b[39m\u001b[38;5;241m.\u001b[39m_cached_patch_euclidean_nearest_neighbor_ser \u001b[38;5;241m=\u001b[39m pd\u001b[38;5;241m.\u001b[39mSeries(\n\u001b[0;32m    613\u001b[0m         np\u001b[38;5;241m.\u001b[39mconcatenate(\n\u001b[0;32m    614\u001b[0m             [\n\u001b[1;32m--> 615\u001b[0m                 \u001b[38;5;28;43mself\u001b[39;49m\u001b[38;5;241;43m.\u001b[39;49m\u001b[43mcompute_patch_euclidean_nearest_neighbor\u001b[49m\u001b[43m(\u001b[49m\n\u001b[0;32m    616\u001b[0m \u001b[43m                    \u001b[49m\u001b[38;5;28;43mself\u001b[39;49m\u001b[38;5;241;43m.\u001b[39;49m\u001b[43mclass_label\u001b[49m\u001b[43m(\u001b[49m\u001b[43mclass_val\u001b[49m\u001b[43m)\u001b[49m\u001b[43m[\u001b[49m\u001b[38;5;241;43m0\u001b[39;49m\u001b[43m]\u001b[49m\n\u001b[0;32m    617\u001b[0m \u001b[43m                \u001b[49m\u001b[43m)\u001b[49m\n\u001b[0;32m    618\u001b[0m                 \u001b[38;5;28;01mfor\u001b[39;00m class_val \u001b[38;5;129;01min\u001b[39;00m \u001b[38;5;28mself\u001b[39m\u001b[38;5;241m.\u001b[39mclasses\n\u001b[0;32m    619\u001b[0m             ]\n\u001b[0;32m    620\u001b[0m         ),\n\u001b[0;32m    621\u001b[0m         name\u001b[38;5;241m=\u001b[39m\u001b[38;5;124m\"\u001b[39m\u001b[38;5;124meuclidean_nearest_neighbor\u001b[39m\u001b[38;5;124m\"\u001b[39m,\n\u001b[0;32m    622\u001b[0m     )\n\u001b[0;32m    624\u001b[0m     \u001b[38;5;28;01mreturn\u001b[39;00m \u001b[38;5;28mself\u001b[39m\u001b[38;5;241m.\u001b[39m_cached_patch_euclidean_nearest_neighbor_ser\n",
      "File \u001b[1;32mD:\\Fall_2023\\Python\\Mambaforge\\envs\\musa-650\\lib\\site-packages\\pylandstats\\landscape.py:429\u001b[0m, in \u001b[0;36mLandscape.compute_patch_euclidean_nearest_neighbor\u001b[1;34m(self, label_arr)\u001b[0m\n\u001b[0;32m    425\u001b[0m enn \u001b[38;5;241m=\u001b[39m np\u001b[38;5;241m.\u001b[39mempty(\u001b[38;5;28mlen\u001b[39m(unique_labels))\n\u001b[0;32m    426\u001b[0m \u001b[38;5;28;01mfor\u001b[39;00m unique_label \u001b[38;5;129;01min\u001b[39;00m unique_labels:\n\u001b[0;32m    427\u001b[0m     \u001b[38;5;66;03m# we build a KDTree with all the coords that are not part of\u001b[39;00m\n\u001b[0;32m    428\u001b[0m     \u001b[38;5;66;03m# the current feature\u001b[39;00m\n\u001b[1;32m--> 429\u001b[0m     tree \u001b[38;5;241m=\u001b[39m \u001b[43mspatial\u001b[49m\u001b[38;5;241;43m.\u001b[39;49m\u001b[43mcKDTree\u001b[49m\u001b[43m(\u001b[49m\n\u001b[0;32m    430\u001b[0m \u001b[43m        \u001b[49m\u001b[43mcoords\u001b[49m\u001b[43m[\u001b[49m\u001b[43mlabels\u001b[49m\u001b[43m \u001b[49m\u001b[38;5;241;43m!=\u001b[39;49m\u001b[43m \u001b[49m\u001b[43munique_label\u001b[49m\u001b[43m]\u001b[49m\u001b[43m,\u001b[49m\n\u001b[0;32m    431\u001b[0m \u001b[43m        \u001b[49m\u001b[43mbalanced_tree\u001b[49m\u001b[38;5;241;43m=\u001b[39;49m\u001b[38;5;28;43;01mFalse\u001b[39;49;00m\u001b[43m,\u001b[49m\n\u001b[0;32m    432\u001b[0m \u001b[43m        \u001b[49m\u001b[43mcompact_nodes\u001b[49m\u001b[38;5;241;43m=\u001b[39;49m\u001b[38;5;28;43;01mFalse\u001b[39;49;00m\u001b[43m,\u001b[49m\n\u001b[0;32m    433\u001b[0m \u001b[43m    \u001b[49m\u001b[43m)\u001b[49m\n\u001b[0;32m    434\u001b[0m     \u001b[38;5;66;03m# now, for each coord of the current feature, we query the\u001b[39;00m\n\u001b[0;32m    435\u001b[0m     \u001b[38;5;66;03m# closest coord of the tree (which does not include points of\u001b[39;00m\n\u001b[0;32m    436\u001b[0m     \u001b[38;5;66;03m# the current feature)\u001b[39;00m\n\u001b[0;32m    437\u001b[0m     mindist, minid \u001b[38;5;241m=\u001b[39m tree\u001b[38;5;241m.\u001b[39mquery(coords[labels \u001b[38;5;241m==\u001b[39m unique_label])\n",
      "File \u001b[1;32m_ckdtree.pyx:589\u001b[0m, in \u001b[0;36mscipy.spatial._ckdtree.cKDTree.__init__\u001b[1;34m()\u001b[0m\n",
      "File \u001b[1;32mD:\\Fall_2023\\Python\\Mambaforge\\envs\\musa-650\\lib\\site-packages\\numpy\\core\\fromnumeric.py:2827\u001b[0m, in \u001b[0;36mamax\u001b[1;34m(a, axis, out, keepdims, initial, where)\u001b[0m\n\u001b[0;32m   2814\u001b[0m \u001b[38;5;129m@array_function_dispatch\u001b[39m(_max_dispatcher)\n\u001b[0;32m   2815\u001b[0m \u001b[38;5;28;01mdef\u001b[39;00m \u001b[38;5;21mamax\u001b[39m(a, axis\u001b[38;5;241m=\u001b[39m\u001b[38;5;28;01mNone\u001b[39;00m, out\u001b[38;5;241m=\u001b[39m\u001b[38;5;28;01mNone\u001b[39;00m, keepdims\u001b[38;5;241m=\u001b[39mnp\u001b[38;5;241m.\u001b[39m_NoValue, initial\u001b[38;5;241m=\u001b[39mnp\u001b[38;5;241m.\u001b[39m_NoValue,\n\u001b[0;32m   2816\u001b[0m          where\u001b[38;5;241m=\u001b[39mnp\u001b[38;5;241m.\u001b[39m_NoValue):\n\u001b[0;32m   2817\u001b[0m \u001b[38;5;250m    \u001b[39m\u001b[38;5;124;03m\"\"\"\u001b[39;00m\n\u001b[0;32m   2818\u001b[0m \u001b[38;5;124;03m    Return the maximum of an array or maximum along an axis.\u001b[39;00m\n\u001b[0;32m   2819\u001b[0m \n\u001b[1;32m   (...)\u001b[0m\n\u001b[0;32m   2825\u001b[0m \u001b[38;5;124;03m    ndarray.max : equivalent method\u001b[39;00m\n\u001b[0;32m   2826\u001b[0m \u001b[38;5;124;03m    \"\"\"\u001b[39;00m\n\u001b[1;32m-> 2827\u001b[0m     \u001b[38;5;28;01mreturn\u001b[39;00m \u001b[43m_wrapreduction\u001b[49m\u001b[43m(\u001b[49m\u001b[43ma\u001b[49m\u001b[43m,\u001b[49m\u001b[43m \u001b[49m\u001b[43mnp\u001b[49m\u001b[38;5;241;43m.\u001b[39;49m\u001b[43mmaximum\u001b[49m\u001b[43m,\u001b[49m\u001b[43m \u001b[49m\u001b[38;5;124;43m'\u001b[39;49m\u001b[38;5;124;43mmax\u001b[39;49m\u001b[38;5;124;43m'\u001b[39;49m\u001b[43m,\u001b[49m\u001b[43m \u001b[49m\u001b[43maxis\u001b[49m\u001b[43m,\u001b[49m\u001b[43m \u001b[49m\u001b[38;5;28;43;01mNone\u001b[39;49;00m\u001b[43m,\u001b[49m\u001b[43m \u001b[49m\u001b[43mout\u001b[49m\u001b[43m,\u001b[49m\n\u001b[0;32m   2828\u001b[0m \u001b[43m                          \u001b[49m\u001b[43mkeepdims\u001b[49m\u001b[38;5;241;43m=\u001b[39;49m\u001b[43mkeepdims\u001b[49m\u001b[43m,\u001b[49m\u001b[43m \u001b[49m\u001b[43minitial\u001b[49m\u001b[38;5;241;43m=\u001b[39;49m\u001b[43minitial\u001b[49m\u001b[43m,\u001b[49m\u001b[43m \u001b[49m\u001b[43mwhere\u001b[49m\u001b[38;5;241;43m=\u001b[39;49m\u001b[43mwhere\u001b[49m\u001b[43m)\u001b[49m\n",
      "File \u001b[1;32mD:\\Fall_2023\\Python\\Mambaforge\\envs\\musa-650\\lib\\site-packages\\numpy\\core\\fromnumeric.py:88\u001b[0m, in \u001b[0;36m_wrapreduction\u001b[1;34m(obj, ufunc, method, axis, dtype, out, **kwargs)\u001b[0m\n\u001b[0;32m     85\u001b[0m         \u001b[38;5;28;01melse\u001b[39;00m:\n\u001b[0;32m     86\u001b[0m             \u001b[38;5;28;01mreturn\u001b[39;00m reduction(axis\u001b[38;5;241m=\u001b[39maxis, out\u001b[38;5;241m=\u001b[39mout, \u001b[38;5;241m*\u001b[39m\u001b[38;5;241m*\u001b[39mpasskwargs)\n\u001b[1;32m---> 88\u001b[0m \u001b[38;5;28;01mreturn\u001b[39;00m ufunc\u001b[38;5;241m.\u001b[39mreduce(obj, axis, dtype, out, \u001b[38;5;241m*\u001b[39m\u001b[38;5;241m*\u001b[39mpasskwargs)\n",
      "\u001b[1;31mKeyboardInterrupt\u001b[0m: "
     ]
    }
   ],
   "source": [
    "import rasterio\n",
    "from pylandstats import Landscape\n",
    "\n",
    "# Open the GeoTIFF file\n",
    "with rasterio.open('./data/Year2023/Dynamic_World_Labels_20230103T042149_20230103T042448_T46RDQ.tif') as src:\n",
    "    # Read the raster data as a numpy array\n",
    "    raster_data = src.read(1)\n",
    "    # Specify the resolution (in meters/pixel) of the raster data\n",
    "    resolution = src.res[0]  # Assuming the resolution is the same in both x and y directions\n",
    "\n",
    "# Create a Landscape object from the raster data\n",
    "landscape = Landscape(raster_data, res=(resolution, resolution))\n",
    "\n",
    "metric_names = [\n",
    "    \"Edge Density\",\n",
    "    \"Number of Patches\",\n",
    "    \"Patch Density\",\n",
    "    \"Largest Patch Index\",\n",
    "    \"Fractal Dimension\",\n",
    "    \"Euclidean Nearest Neighbor\"\n",
    "]\n",
    "\n",
    "# Run each metric separately and measure the processing time\n",
    "for metric_name in metric_names:\n",
    "    start_time = time.time()\n",
    "    if metric_name == \"Edge Density\":\n",
    "        metric_value = landscape.edge_density()\n",
    "    elif metric_name == \"Number of Patches\":\n",
    "        metric_value = landscape.number_of_patches()\n",
    "    elif metric_name == \"Patch Density\":\n",
    "        metric_value = landscape.patch_density()\n",
    "    elif metric_name == \"Largest Patch Index\":\n",
    "        metric_value = landscape.largest_patch_index()\n",
    "    elif metric_name == \"Fractal Dimension\":\n",
    "        metric_value = landscape.fractal_dimension()\n",
    "    elif metric_name == \"Euclidean Nearest Neighbor\":\n",
    "        metric_value = landscape.euclidean_nearest_neighbor()\n",
    "    else:\n",
    "        metric_value = None\n",
    "\n",
    "    end_time = time.time()\n",
    "    processing_time = end_time - start_time\n",
    "\n",
    "    print(f\"Metric: {metric_name}\")\n",
    "    print(f\"Value: {metric_value}\")\n",
    "    print(f\"Processing Time: {processing_time:.4f} seconds\")\n",
    "    print(\"---------------------------\")\n"
   ]
  },
  {
   "cell_type": "code",
   "execution_count": null,
   "id": "0df98a23-8a5e-4560-b4c7-f299e5b7c521",
   "metadata": {},
   "outputs": [],
   "source": []
  },
  {
   "cell_type": "code",
   "execution_count": 77,
   "id": "60d3f0d2-266c-4a01-9b5c-7e41d0c5b6b5",
   "metadata": {},
   "outputs": [
    {
     "data": {
      "text/html": [
       "\n",
       "            <style>\n",
       "                .geemap-dark {\n",
       "                    --jp-widgets-color: white;\n",
       "                    --jp-widgets-label-color: white;\n",
       "                    --jp-ui-font-color1: white;\n",
       "                    --jp-layout-color2: #454545;\n",
       "                    background-color: #383838;\n",
       "                }\n",
       "\n",
       "                .geemap-dark .jupyter-button {\n",
       "                    --jp-layout-color3: #383838;\n",
       "                }\n",
       "\n",
       "                .geemap-colab {\n",
       "                    background-color: var(--colab-primary-surface-color, white);\n",
       "                }\n",
       "\n",
       "                .geemap-colab .jupyter-button {\n",
       "                    --jp-layout-color3: var(--colab-primary-surface-color, white);\n",
       "                }\n",
       "            </style>\n",
       "            "
      ],
      "text/plain": [
       "<IPython.core.display.HTML object>"
      ]
     },
     "metadata": {},
     "output_type": "display_data"
    }
   ],
   "source": [
    "# # this splits the rasters\n",
    "\n",
    "# import rasterio\n",
    "# import matplotlib.pyplot as plt\n",
    "\n",
    "# # Open the TIFF file\n",
    "# with rasterio.open('./data/landsat_image.tif') as src:\n",
    "#     # Get the number of bands (layers) in the TIFF file\n",
    "#     num_bands = src.count\n",
    "    \n",
    "#     # Iterate over each band (layer) in the TIFF file\n",
    "#     for i in range(1, num_bands + 1):\n",
    "#         # Read the band data\n",
    "#         band_data = src.read(i)\n",
    "        \n",
    "#         # Visualize the band data\n",
    "#         plt.figure(figsize=(8, 8))\n",
    "#         plt.imshow(band_data, cmap='viridis')  # Use cmap='gray' for grayscale images\n",
    "#         plt.title(f\"Layer {i}\")\n",
    "#         plt.colorbar(label='Pixel Value')\n",
    "#         plt.show()\n"
   ]
  },
  {
   "cell_type": "code",
   "execution_count": 2,
   "id": "fdb3ce07-05ef-421f-b46b-991a6273c199",
   "metadata": {},
   "outputs": [
    {
     "data": {
      "text/html": [
       "\n",
       "            <style>\n",
       "                .geemap-dark {\n",
       "                    --jp-widgets-color: white;\n",
       "                    --jp-widgets-label-color: white;\n",
       "                    --jp-ui-font-color1: white;\n",
       "                    --jp-layout-color2: #454545;\n",
       "                    background-color: #383838;\n",
       "                }\n",
       "\n",
       "                .geemap-dark .jupyter-button {\n",
       "                    --jp-layout-color3: #383838;\n",
       "                }\n",
       "\n",
       "                .geemap-colab {\n",
       "                    background-color: var(--colab-primary-surface-color, white);\n",
       "                }\n",
       "\n",
       "                .geemap-colab .jupyter-button {\n",
       "                    --jp-layout-color3: var(--colab-primary-surface-color, white);\n",
       "                }\n",
       "            </style>\n",
       "            "
      ],
      "text/plain": [
       "<IPython.core.display.HTML object>"
      ]
     },
     "metadata": {},
     "output_type": "display_data"
    },
    {
     "name": "stderr",
     "output_type": "stream",
     "text": [
      "Module D:\\Fall_2023\\Python\\Mambaforge\\envs\\musa-650\\lib\\site-packages\\pylandstats\\landscape.py has not been compiled for Transonic-Numba\n",
      "D:\\Fall_2023\\Python\\Mambaforge\\envs\\musa-650\\lib\\site-packages\\pylandstats\\landscape.py:1261: RuntimeWarning: overflow encountered in scalar multiply\n",
      "  numerator *= 10000\n"
     ]
    },
    {
     "ename": "KeyboardInterrupt",
     "evalue": "",
     "output_type": "error",
     "traceback": [
      "\u001b[1;31m---------------------------------------------------------------------------\u001b[0m",
      "\u001b[1;31mAttributeError\u001b[0m                            Traceback (most recent call last)",
      "File \u001b[1;32mD:\\Fall_2023\\Python\\Mambaforge\\envs\\musa-650\\lib\\site-packages\\pylandstats\\landscape.py:610\u001b[0m, in \u001b[0;36mLandscape._patch_euclidean_nearest_neighbor_ser\u001b[1;34m(self)\u001b[0m\n\u001b[0;32m    609\u001b[0m \u001b[38;5;28;01mtry\u001b[39;00m:\n\u001b[1;32m--> 610\u001b[0m     \u001b[38;5;28;01mreturn\u001b[39;00m \u001b[38;5;28;43mself\u001b[39;49m\u001b[38;5;241;43m.\u001b[39;49m\u001b[43m_cached_patch_euclidean_nearest_neighbor_ser\u001b[49m\n\u001b[0;32m    611\u001b[0m \u001b[38;5;28;01mexcept\u001b[39;00m \u001b[38;5;167;01mAttributeError\u001b[39;00m:\n",
      "\u001b[1;31mAttributeError\u001b[0m: 'Landscape' object has no attribute '_cached_patch_euclidean_nearest_neighbor_ser'",
      "\nDuring handling of the above exception, another exception occurred:\n",
      "\u001b[1;31mKeyboardInterrupt\u001b[0m                         Traceback (most recent call last)",
      "Cell \u001b[1;32mIn[2], line 40\u001b[0m\n\u001b[0;32m     38\u001b[0m \u001b[38;5;28;01mfor\u001b[39;00m metric_name \u001b[38;5;129;01min\u001b[39;00m singular_metrics:\n\u001b[0;32m     39\u001b[0m     metric_method \u001b[38;5;241m=\u001b[39m \u001b[38;5;28mgetattr\u001b[39m(landscape, metric_name\u001b[38;5;241m.\u001b[39mlower()\u001b[38;5;241m.\u001b[39mreplace(\u001b[38;5;124m'\u001b[39m\u001b[38;5;124m \u001b[39m\u001b[38;5;124m'\u001b[39m, \u001b[38;5;124m'\u001b[39m\u001b[38;5;124m_\u001b[39m\u001b[38;5;124m'\u001b[39m))\n\u001b[1;32m---> 40\u001b[0m     metric_value \u001b[38;5;241m=\u001b[39m \u001b[43mmetric_method\u001b[49m\u001b[43m(\u001b[49m\u001b[43m)\u001b[49m\n\u001b[0;32m     41\u001b[0m     metrics[metric_name] \u001b[38;5;241m=\u001b[39m metric_value\n\u001b[0;32m     43\u001b[0m \u001b[38;5;66;03m# Get the image ID from the raster file name (assuming it's in the format \"image_id.tif\")\u001b[39;00m\n",
      "File \u001b[1;32mD:\\Fall_2023\\Python\\Mambaforge\\envs\\musa-650\\lib\\site-packages\\pylandstats\\landscape.py:1055\u001b[0m, in \u001b[0;36mLandscape.euclidean_nearest_neighbor\u001b[1;34m(self, class_val)\u001b[0m\n\u001b[0;32m   1034\u001b[0m \u001b[38;5;28;01mdef\u001b[39;00m \u001b[38;5;21meuclidean_nearest_neighbor\u001b[39m(\u001b[38;5;28mself\u001b[39m, class_val\u001b[38;5;241m=\u001b[39m\u001b[38;5;28;01mNone\u001b[39;00m):\n\u001b[0;32m   1035\u001b[0m \u001b[38;5;250m    \u001b[39m\u001b[38;5;124mr\u001b[39m\u001b[38;5;124;03m\"\"\"\u001b[39;00m\n\u001b[0;32m   1036\u001b[0m \u001b[38;5;124;03m    Distance to the nearest neighboring patch of the same class.\u001b[39;00m\n\u001b[0;32m   1037\u001b[0m \n\u001b[1;32m   (...)\u001b[0m\n\u001b[0;32m   1053\u001b[0m \u001b[38;5;124;03m        neighbors decreases.\u001b[39;00m\n\u001b[0;32m   1054\u001b[0m \u001b[38;5;124;03m    \"\"\"\u001b[39;00m\n\u001b[1;32m-> 1055\u001b[0m     euclidean_nearest_neighbor_ser \u001b[38;5;241m=\u001b[39m \u001b[38;5;28;43mself\u001b[39;49m\u001b[38;5;241;43m.\u001b[39;49m\u001b[43m_get_patch_euclidean_nearest_neighbor_ser\u001b[49m\u001b[43m(\u001b[49m\n\u001b[0;32m   1056\u001b[0m \u001b[43m        \u001b[49m\u001b[43mclass_val\u001b[49m\n\u001b[0;32m   1057\u001b[0m \u001b[43m    \u001b[49m\u001b[43m)\u001b[49m\n\u001b[0;32m   1059\u001b[0m     \u001b[38;5;28;01mif\u001b[39;00m class_val \u001b[38;5;129;01mis\u001b[39;00m \u001b[38;5;28;01mNone\u001b[39;00m:\n\u001b[0;32m   1060\u001b[0m         \u001b[38;5;28;01mfor\u001b[39;00m class_val \u001b[38;5;129;01min\u001b[39;00m \u001b[38;5;28mself\u001b[39m\u001b[38;5;241m.\u001b[39mclasses:\n",
      "File \u001b[1;32mD:\\Fall_2023\\Python\\Mambaforge\\envs\\musa-650\\lib\\site-packages\\pylandstats\\landscape.py:715\u001b[0m, in \u001b[0;36mLandscape._get_patch_euclidean_nearest_neighbor_ser\u001b[1;34m(self, class_val, copy)\u001b[0m\n\u001b[0;32m    712\u001b[0m \u001b[38;5;28;01mdef\u001b[39;00m \u001b[38;5;21m_get_patch_euclidean_nearest_neighbor_ser\u001b[39m(\u001b[38;5;28mself\u001b[39m, class_val\u001b[38;5;241m=\u001b[39m\u001b[38;5;28;01mNone\u001b[39;00m, copy\u001b[38;5;241m=\u001b[39m\u001b[38;5;28;01mFalse\u001b[39;00m):\n\u001b[0;32m    713\u001b[0m     \u001b[38;5;28;01mif\u001b[39;00m class_val \u001b[38;5;129;01mis\u001b[39;00m \u001b[38;5;28;01mNone\u001b[39;00m:\n\u001b[0;32m    714\u001b[0m         patch_euclidean_nearest_neighbor_ser \u001b[38;5;241m=\u001b[39m (\n\u001b[1;32m--> 715\u001b[0m             \u001b[38;5;28;43mself\u001b[39;49m\u001b[38;5;241;43m.\u001b[39;49m\u001b[43m_patch_euclidean_nearest_neighbor_ser\u001b[49m\n\u001b[0;32m    716\u001b[0m         )\n\u001b[0;32m    717\u001b[0m     \u001b[38;5;28;01melse\u001b[39;00m:\n\u001b[0;32m    718\u001b[0m         patch_euclidean_nearest_neighbor_ser \u001b[38;5;241m=\u001b[39m (\n\u001b[0;32m    719\u001b[0m             \u001b[38;5;28mself\u001b[39m\u001b[38;5;241m.\u001b[39m_patch_euclidean_nearest_neighbor_ser[\n\u001b[0;32m    720\u001b[0m                 \u001b[38;5;28mself\u001b[39m\u001b[38;5;241m.\u001b[39m_patch_class_ser \u001b[38;5;241m==\u001b[39m class_val\n\u001b[0;32m    721\u001b[0m             ]\n\u001b[0;32m    722\u001b[0m         )\n",
      "File \u001b[1;32mD:\\Fall_2023\\Python\\Mambaforge\\envs\\musa-650\\lib\\site-packages\\pylandstats\\landscape.py:614\u001b[0m, in \u001b[0;36mLandscape._patch_euclidean_nearest_neighbor_ser\u001b[1;34m(self)\u001b[0m\n\u001b[0;32m    610\u001b[0m     \u001b[38;5;28;01mreturn\u001b[39;00m \u001b[38;5;28mself\u001b[39m\u001b[38;5;241m.\u001b[39m_cached_patch_euclidean_nearest_neighbor_ser\n\u001b[0;32m    611\u001b[0m \u001b[38;5;28;01mexcept\u001b[39;00m \u001b[38;5;167;01mAttributeError\u001b[39;00m:\n\u001b[0;32m    612\u001b[0m     \u001b[38;5;28mself\u001b[39m\u001b[38;5;241m.\u001b[39m_cached_patch_euclidean_nearest_neighbor_ser \u001b[38;5;241m=\u001b[39m pd\u001b[38;5;241m.\u001b[39mSeries(\n\u001b[0;32m    613\u001b[0m         np\u001b[38;5;241m.\u001b[39mconcatenate(\n\u001b[1;32m--> 614\u001b[0m             [\n\u001b[0;32m    615\u001b[0m                 \u001b[38;5;28mself\u001b[39m\u001b[38;5;241m.\u001b[39mcompute_patch_euclidean_nearest_neighbor(\n\u001b[0;32m    616\u001b[0m                     \u001b[38;5;28mself\u001b[39m\u001b[38;5;241m.\u001b[39mclass_label(class_val)[\u001b[38;5;241m0\u001b[39m]\n\u001b[0;32m    617\u001b[0m                 )\n\u001b[0;32m    618\u001b[0m                 \u001b[38;5;28;01mfor\u001b[39;00m class_val \u001b[38;5;129;01min\u001b[39;00m \u001b[38;5;28mself\u001b[39m\u001b[38;5;241m.\u001b[39mclasses\n\u001b[0;32m    619\u001b[0m             ]\n\u001b[0;32m    620\u001b[0m         ),\n\u001b[0;32m    621\u001b[0m         name\u001b[38;5;241m=\u001b[39m\u001b[38;5;124m\"\u001b[39m\u001b[38;5;124meuclidean_nearest_neighbor\u001b[39m\u001b[38;5;124m\"\u001b[39m,\n\u001b[0;32m    622\u001b[0m     )\n\u001b[0;32m    624\u001b[0m     \u001b[38;5;28;01mreturn\u001b[39;00m \u001b[38;5;28mself\u001b[39m\u001b[38;5;241m.\u001b[39m_cached_patch_euclidean_nearest_neighbor_ser\n",
      "File \u001b[1;32mD:\\Fall_2023\\Python\\Mambaforge\\envs\\musa-650\\lib\\site-packages\\pylandstats\\landscape.py:615\u001b[0m, in \u001b[0;36m<listcomp>\u001b[1;34m(.0)\u001b[0m\n\u001b[0;32m    610\u001b[0m     \u001b[38;5;28;01mreturn\u001b[39;00m \u001b[38;5;28mself\u001b[39m\u001b[38;5;241m.\u001b[39m_cached_patch_euclidean_nearest_neighbor_ser\n\u001b[0;32m    611\u001b[0m \u001b[38;5;28;01mexcept\u001b[39;00m \u001b[38;5;167;01mAttributeError\u001b[39;00m:\n\u001b[0;32m    612\u001b[0m     \u001b[38;5;28mself\u001b[39m\u001b[38;5;241m.\u001b[39m_cached_patch_euclidean_nearest_neighbor_ser \u001b[38;5;241m=\u001b[39m pd\u001b[38;5;241m.\u001b[39mSeries(\n\u001b[0;32m    613\u001b[0m         np\u001b[38;5;241m.\u001b[39mconcatenate(\n\u001b[0;32m    614\u001b[0m             [\n\u001b[1;32m--> 615\u001b[0m                 \u001b[38;5;28;43mself\u001b[39;49m\u001b[38;5;241;43m.\u001b[39;49m\u001b[43mcompute_patch_euclidean_nearest_neighbor\u001b[49m\u001b[43m(\u001b[49m\n\u001b[0;32m    616\u001b[0m \u001b[43m                    \u001b[49m\u001b[38;5;28;43mself\u001b[39;49m\u001b[38;5;241;43m.\u001b[39;49m\u001b[43mclass_label\u001b[49m\u001b[43m(\u001b[49m\u001b[43mclass_val\u001b[49m\u001b[43m)\u001b[49m\u001b[43m[\u001b[49m\u001b[38;5;241;43m0\u001b[39;49m\u001b[43m]\u001b[49m\n\u001b[0;32m    617\u001b[0m \u001b[43m                \u001b[49m\u001b[43m)\u001b[49m\n\u001b[0;32m    618\u001b[0m                 \u001b[38;5;28;01mfor\u001b[39;00m class_val \u001b[38;5;129;01min\u001b[39;00m \u001b[38;5;28mself\u001b[39m\u001b[38;5;241m.\u001b[39mclasses\n\u001b[0;32m    619\u001b[0m             ]\n\u001b[0;32m    620\u001b[0m         ),\n\u001b[0;32m    621\u001b[0m         name\u001b[38;5;241m=\u001b[39m\u001b[38;5;124m\"\u001b[39m\u001b[38;5;124meuclidean_nearest_neighbor\u001b[39m\u001b[38;5;124m\"\u001b[39m,\n\u001b[0;32m    622\u001b[0m     )\n\u001b[0;32m    624\u001b[0m     \u001b[38;5;28;01mreturn\u001b[39;00m \u001b[38;5;28mself\u001b[39m\u001b[38;5;241m.\u001b[39m_cached_patch_euclidean_nearest_neighbor_ser\n",
      "File \u001b[1;32mD:\\Fall_2023\\Python\\Mambaforge\\envs\\musa-650\\lib\\site-packages\\pylandstats\\landscape.py:429\u001b[0m, in \u001b[0;36mLandscape.compute_patch_euclidean_nearest_neighbor\u001b[1;34m(self, label_arr)\u001b[0m\n\u001b[0;32m    425\u001b[0m enn \u001b[38;5;241m=\u001b[39m np\u001b[38;5;241m.\u001b[39mempty(\u001b[38;5;28mlen\u001b[39m(unique_labels))\n\u001b[0;32m    426\u001b[0m \u001b[38;5;28;01mfor\u001b[39;00m unique_label \u001b[38;5;129;01min\u001b[39;00m unique_labels:\n\u001b[0;32m    427\u001b[0m     \u001b[38;5;66;03m# we build a KDTree with all the coords that are not part of\u001b[39;00m\n\u001b[0;32m    428\u001b[0m     \u001b[38;5;66;03m# the current feature\u001b[39;00m\n\u001b[1;32m--> 429\u001b[0m     tree \u001b[38;5;241m=\u001b[39m \u001b[43mspatial\u001b[49m\u001b[38;5;241;43m.\u001b[39;49m\u001b[43mcKDTree\u001b[49m\u001b[43m(\u001b[49m\n\u001b[0;32m    430\u001b[0m \u001b[43m        \u001b[49m\u001b[43mcoords\u001b[49m\u001b[43m[\u001b[49m\u001b[43mlabels\u001b[49m\u001b[43m \u001b[49m\u001b[38;5;241;43m!=\u001b[39;49m\u001b[43m \u001b[49m\u001b[43munique_label\u001b[49m\u001b[43m]\u001b[49m\u001b[43m,\u001b[49m\n\u001b[0;32m    431\u001b[0m \u001b[43m        \u001b[49m\u001b[43mbalanced_tree\u001b[49m\u001b[38;5;241;43m=\u001b[39;49m\u001b[38;5;28;43;01mFalse\u001b[39;49;00m\u001b[43m,\u001b[49m\n\u001b[0;32m    432\u001b[0m \u001b[43m        \u001b[49m\u001b[43mcompact_nodes\u001b[49m\u001b[38;5;241;43m=\u001b[39;49m\u001b[38;5;28;43;01mFalse\u001b[39;49;00m\u001b[43m,\u001b[49m\n\u001b[0;32m    433\u001b[0m \u001b[43m    \u001b[49m\u001b[43m)\u001b[49m\n\u001b[0;32m    434\u001b[0m     \u001b[38;5;66;03m# now, for each coord of the current feature, we query the\u001b[39;00m\n\u001b[0;32m    435\u001b[0m     \u001b[38;5;66;03m# closest coord of the tree (which does not include points of\u001b[39;00m\n\u001b[0;32m    436\u001b[0m     \u001b[38;5;66;03m# the current feature)\u001b[39;00m\n\u001b[0;32m    437\u001b[0m     mindist, minid \u001b[38;5;241m=\u001b[39m tree\u001b[38;5;241m.\u001b[39mquery(coords[labels \u001b[38;5;241m==\u001b[39m unique_label])\n",
      "File \u001b[1;32m_ckdtree.pyx:589\u001b[0m, in \u001b[0;36mscipy.spatial._ckdtree.cKDTree.__init__\u001b[1;34m()\u001b[0m\n",
      "File \u001b[1;32mD:\\Fall_2023\\Python\\Mambaforge\\envs\\musa-650\\lib\\site-packages\\numpy\\core\\fromnumeric.py:2827\u001b[0m, in \u001b[0;36mamax\u001b[1;34m(a, axis, out, keepdims, initial, where)\u001b[0m\n\u001b[0;32m   2814\u001b[0m \u001b[38;5;129m@array_function_dispatch\u001b[39m(_max_dispatcher)\n\u001b[0;32m   2815\u001b[0m \u001b[38;5;28;01mdef\u001b[39;00m \u001b[38;5;21mamax\u001b[39m(a, axis\u001b[38;5;241m=\u001b[39m\u001b[38;5;28;01mNone\u001b[39;00m, out\u001b[38;5;241m=\u001b[39m\u001b[38;5;28;01mNone\u001b[39;00m, keepdims\u001b[38;5;241m=\u001b[39mnp\u001b[38;5;241m.\u001b[39m_NoValue, initial\u001b[38;5;241m=\u001b[39mnp\u001b[38;5;241m.\u001b[39m_NoValue,\n\u001b[0;32m   2816\u001b[0m          where\u001b[38;5;241m=\u001b[39mnp\u001b[38;5;241m.\u001b[39m_NoValue):\n\u001b[0;32m   2817\u001b[0m \u001b[38;5;250m    \u001b[39m\u001b[38;5;124;03m\"\"\"\u001b[39;00m\n\u001b[0;32m   2818\u001b[0m \u001b[38;5;124;03m    Return the maximum of an array or maximum along an axis.\u001b[39;00m\n\u001b[0;32m   2819\u001b[0m \n\u001b[1;32m   (...)\u001b[0m\n\u001b[0;32m   2825\u001b[0m \u001b[38;5;124;03m    ndarray.max : equivalent method\u001b[39;00m\n\u001b[0;32m   2826\u001b[0m \u001b[38;5;124;03m    \"\"\"\u001b[39;00m\n\u001b[1;32m-> 2827\u001b[0m     \u001b[38;5;28;01mreturn\u001b[39;00m \u001b[43m_wrapreduction\u001b[49m\u001b[43m(\u001b[49m\u001b[43ma\u001b[49m\u001b[43m,\u001b[49m\u001b[43m \u001b[49m\u001b[43mnp\u001b[49m\u001b[38;5;241;43m.\u001b[39;49m\u001b[43mmaximum\u001b[49m\u001b[43m,\u001b[49m\u001b[43m \u001b[49m\u001b[38;5;124;43m'\u001b[39;49m\u001b[38;5;124;43mmax\u001b[39;49m\u001b[38;5;124;43m'\u001b[39;49m\u001b[43m,\u001b[49m\u001b[43m \u001b[49m\u001b[43maxis\u001b[49m\u001b[43m,\u001b[49m\u001b[43m \u001b[49m\u001b[38;5;28;43;01mNone\u001b[39;49;00m\u001b[43m,\u001b[49m\u001b[43m \u001b[49m\u001b[43mout\u001b[49m\u001b[43m,\u001b[49m\n\u001b[0;32m   2828\u001b[0m \u001b[43m                          \u001b[49m\u001b[43mkeepdims\u001b[49m\u001b[38;5;241;43m=\u001b[39;49m\u001b[43mkeepdims\u001b[49m\u001b[43m,\u001b[49m\u001b[43m \u001b[49m\u001b[43minitial\u001b[49m\u001b[38;5;241;43m=\u001b[39;49m\u001b[43minitial\u001b[49m\u001b[43m,\u001b[49m\u001b[43m \u001b[49m\u001b[43mwhere\u001b[49m\u001b[38;5;241;43m=\u001b[39;49m\u001b[43mwhere\u001b[49m\u001b[43m)\u001b[49m\n",
      "File \u001b[1;32mD:\\Fall_2023\\Python\\Mambaforge\\envs\\musa-650\\lib\\site-packages\\numpy\\core\\fromnumeric.py:88\u001b[0m, in \u001b[0;36m_wrapreduction\u001b[1;34m(obj, ufunc, method, axis, dtype, out, **kwargs)\u001b[0m\n\u001b[0;32m     85\u001b[0m         \u001b[38;5;28;01melse\u001b[39;00m:\n\u001b[0;32m     86\u001b[0m             \u001b[38;5;28;01mreturn\u001b[39;00m reduction(axis\u001b[38;5;241m=\u001b[39maxis, out\u001b[38;5;241m=\u001b[39mout, \u001b[38;5;241m*\u001b[39m\u001b[38;5;241m*\u001b[39mpasskwargs)\n\u001b[1;32m---> 88\u001b[0m \u001b[38;5;28;01mreturn\u001b[39;00m ufunc\u001b[38;5;241m.\u001b[39mreduce(obj, axis, dtype, out, \u001b[38;5;241m*\u001b[39m\u001b[38;5;241m*\u001b[39mpasskwargs)\n",
      "\u001b[1;31mKeyboardInterrupt\u001b[0m: "
     ]
    }
   ],
   "source": [
    "import os\n",
    "import rasterio\n",
    "import pandas as pd\n",
    "from pylandstats import Landscape\n",
    "\n",
    "# Define the folder containing the raster files\n",
    "folder_path = \"./data/Year2023\"\n",
    "\n",
    "# Get a list of all raster files in the folder\n",
    "raster_files = [f for f in os.listdir(folder_path) if f.endswith('.tif')]\n",
    "\n",
    "# Define the list of landscape metrics that are singular values\n",
    "singular_metrics = [\n",
    "    \"Number of Patches\",\n",
    "    \"Patch Density\",\n",
    "    \"Largest Patch Index\",\n",
    "    \"Fractal Dimension\",\n",
    "    \"Euclidean Nearest Neighbor\"\n",
    "]\n",
    "\n",
    "# Create an empty dictionary to store landscape metrics for each raster\n",
    "metrics_dict = {}\n",
    "\n",
    "# Iterate over each raster file\n",
    "for raster_file in raster_files:\n",
    "    # Open the raster file\n",
    "    with rasterio.open(os.path.join(folder_path, raster_file)) as src:\n",
    "        # Read the raster data as a numpy array\n",
    "        raster_data = src.read(1)\n",
    "        # Specify the resolution (in meters/pixel) of the raster data\n",
    "        resolution = src.res[0]  # Assuming the resolution is the same in both x and y directions\n",
    "\n",
    "    # Create a Landscape object from the raster data\n",
    "    landscape = Landscape(raster_data, res=(resolution, resolution))\n",
    "\n",
    "    # Calculate landscape metrics\n",
    "    metrics = {}\n",
    "    for metric_name in singular_metrics:\n",
    "        metric_method = getattr(landscape, metric_name.lower().replace(' ', '_'))\n",
    "        metric_value = metric_method()\n",
    "        metrics[metric_name] = metric_value\n",
    "    \n",
    "    # Get the image ID from the raster file name (assuming it's in the format \"image_id.tif\")\n",
    "    image_id = os.path.splitext(raster_file)[0]\n",
    "    \n",
    "    # Store the metrics for the current raster in the dictionary\n",
    "    metrics_dict[image_id] = metrics\n",
    "\n",
    "# Create a pandas DataFrame from the metrics dictionary\n",
    "metrics_df = pd.DataFrame(metrics_dict).transpose()\n",
    "\n",
    "# Print the DataFrame\n",
    "print(metrics_df)\n"
   ]
  },
  {
   "cell_type": "code",
   "execution_count": null,
   "id": "d8f9f675-b419-49d1-b89f-6c8ee52ccb6b",
   "metadata": {},
   "outputs": [],
   "source": []
  }
 ],
 "metadata": {
  "kernelspec": {
   "display_name": "Python 3 (ipykernel)",
   "language": "python",
   "name": "python3"
  },
  "language_info": {
   "codemirror_mode": {
    "name": "ipython",
    "version": 3
   },
   "file_extension": ".py",
   "mimetype": "text/x-python",
   "name": "python",
   "nbconvert_exporter": "python",
   "pygments_lexer": "ipython3",
   "version": "3.9.18"
  }
 },
 "nbformat": 4,
 "nbformat_minor": 5
}
