{
 "cells": [
  {
   "cell_type": "code",
   "execution_count": 5,
   "id": "ac4198c5-cc18-4464-8fd7-91b935b5d961",
   "metadata": {},
   "outputs": [],
   "source": [
    "# !pip install Unidecode && pip install rasterio\n",
    "\n"
   ]
  },
  {
   "cell_type": "code",
   "execution_count": 6,
   "id": "ea6b9b53-4ec1-4a74-9609-90f83fe54424",
   "metadata": {},
   "outputs": [],
   "source": [
    "# !pip install ee"
   ]
  },
  {
   "cell_type": "code",
   "execution_count": 2,
   "id": "cbf22172-a5de-4063-857f-79370a5abea3",
   "metadata": {},
   "outputs": [
    {
     "name": "stderr",
     "output_type": "stream",
     "text": [
      "ERROR: Could not find a version that satisfies the requirement arcpy (from versions: none)\n",
      "ERROR: No matching distribution found for arcpy\n"
     ]
    }
   ],
   "source": [
    "#!pip install arcpy"
   ]
  },
  {
   "cell_type": "code",
   "execution_count": 6,
   "id": "baea094a-7540-4e8c-adb6-f7c1bd6526b8",
   "metadata": {},
   "outputs": [],
   "source": [
    "#!pip install geopandas"
   ]
  },
  {
   "cell_type": "code",
   "execution_count": 8,
   "id": "c1e2355f-ade9-4187-89e1-32f2f28d0107",
   "metadata": {},
   "outputs": [],
   "source": [
    "#!pip install geemap"
   ]
  },
  {
   "cell_type": "code",
   "execution_count": 4,
   "id": "2eb12db8-5bd5-4804-aa96-fce55639bf0f",
   "metadata": {},
   "outputs": [
    {
     "data": {
      "text/html": [
       "\n",
       "            <style>\n",
       "                .geemap-dark {\n",
       "                    --jp-widgets-color: white;\n",
       "                    --jp-widgets-label-color: white;\n",
       "                    --jp-ui-font-color1: white;\n",
       "                    --jp-layout-color2: #454545;\n",
       "                    background-color: #383838;\n",
       "                }\n",
       "\n",
       "                .geemap-dark .jupyter-button {\n",
       "                    --jp-layout-color3: #383838;\n",
       "                }\n",
       "\n",
       "                .geemap-colab {\n",
       "                    background-color: var(--colab-primary-surface-color, white);\n",
       "                }\n",
       "\n",
       "                .geemap-colab .jupyter-button {\n",
       "                    --jp-layout-color3: var(--colab-primary-surface-color, white);\n",
       "                }\n",
       "            </style>\n",
       "            "
      ],
      "text/plain": [
       "<IPython.core.display.HTML object>"
      ]
     },
     "metadata": {},
     "output_type": "display_data"
    }
   ],
   "source": [
    "import ee\n",
    "import geemap"
   ]
  },
  {
   "cell_type": "code",
   "execution_count": 11,
   "id": "a771b65b-bf96-4e01-bed9-b322953bd830",
   "metadata": {},
   "outputs": [
    {
     "data": {
      "text/html": [
       "\n",
       "            <style>\n",
       "                .geemap-dark {\n",
       "                    --jp-widgets-color: white;\n",
       "                    --jp-widgets-label-color: white;\n",
       "                    --jp-ui-font-color1: white;\n",
       "                    --jp-layout-color2: #454545;\n",
       "                    background-color: #383838;\n",
       "                }\n",
       "\n",
       "                .geemap-dark .jupyter-button {\n",
       "                    --jp-layout-color3: #383838;\n",
       "                }\n",
       "\n",
       "                .geemap-colab {\n",
       "                    background-color: var(--colab-primary-surface-color, white);\n",
       "                }\n",
       "\n",
       "                .geemap-colab .jupyter-button {\n",
       "                    --jp-layout-color3: var(--colab-primary-surface-color, white);\n",
       "                }\n",
       "            </style>\n",
       "            "
      ],
      "text/plain": [
       "<IPython.core.display.HTML object>"
      ]
     },
     "metadata": {},
     "output_type": "display_data"
    }
   ],
   "source": [
    "\n",
    "import rasterio\n",
    "from rasterio.plot import show"
   ]
  },
  {
   "cell_type": "code",
   "execution_count": 14,
   "id": "cfb6613c-c179-4ae6-8136-2e46187d3bea",
   "metadata": {},
   "outputs": [
    {
     "data": {
      "text/html": [
       "\n",
       "            <style>\n",
       "                .geemap-dark {\n",
       "                    --jp-widgets-color: white;\n",
       "                    --jp-widgets-label-color: white;\n",
       "                    --jp-ui-font-color1: white;\n",
       "                    --jp-layout-color2: #454545;\n",
       "                    background-color: #383838;\n",
       "                }\n",
       "\n",
       "                .geemap-dark .jupyter-button {\n",
       "                    --jp-layout-color3: #383838;\n",
       "                }\n",
       "\n",
       "                .geemap-colab {\n",
       "                    background-color: var(--colab-primary-surface-color, white);\n",
       "                }\n",
       "\n",
       "                .geemap-colab .jupyter-button {\n",
       "                    --jp-layout-color3: var(--colab-primary-surface-color, white);\n",
       "                }\n",
       "            </style>\n",
       "            "
      ],
      "text/plain": [
       "<IPython.core.display.HTML object>"
      ]
     },
     "metadata": {},
     "output_type": "display_data"
    },
    {
     "name": "stdout",
     "output_type": "stream",
     "text": [
      "To authorize access needed by Earth Engine, open the following URL in a web browser and follow the instructions. If the web browser does not start automatically, please manually browse the URL below.\n",
      "\n",
      "    https://accounts.google.com/o/oauth2/auth?client_id=517222506229-vsmmajv00ul0bs7p89v5m89qs8eb9359.apps.googleusercontent.com&scope=https%3A%2F%2Fwww.googleapis.com%2Fauth%2Fearthengine+https%3A%2F%2Fwww.googleapis.com%2Fauth%2Fcloud-platform+https%3A%2F%2Fwww.googleapis.com%2Fauth%2Fdevstorage.full_control&redirect_uri=http%3A%2F%2Flocalhost%3A8085&response_type=code&code_challenge=NxPR8InfCWOoAJUXlAQWKZBmJ5bmgHAAq2RdLgVi6ZI&code_challenge_method=S256\n",
      "\n",
      "Waiting for successful authorization from web browser ...\n",
      "\n",
      "Successfully saved authorization token.\n",
      "Number of images in the filtered collection: 972\n"
     ]
    }
   ],
   "source": [
    "# Authenticate and initialize Earth Engine\n",
    "\n",
    "!earthengine authenticate --force\n",
    "\n",
    "#ee.Initialize()\n",
    "#ee.Authenticate()\n",
    "\n",
    "# Specify your Earth Engine project ID\n",
    "project_id = 'musa650-final-sk-rg'\n",
    "\n",
    "# Initialize Earth Engine with your project ID\n",
    "ee.Initialize(project=project_id)\n",
    "\n",
    "# Define the area of interest (AOI) as a GeoJSON polygon\n",
    "# Define the area of interest (AOI) as a GeoJSON polygon\n",
    "aoi_coords = [\n",
    "    [93.10112972441023, 26.430061384855968],\n",
    "    [93.10112972441023, 26.9404980783499],\n",
    "    [92.52434749784773, 26.9404980783499],\n",
    "    [92.52434749784773, 26.430061384855968],\n",
    "    [93.10112972441023, 26.430061384855968]  # Closing the polygon\n",
    "]\n",
    "aoi = ee.Geometry.Polygon(aoi_coords)\n",
    "\n",
    "# Define the time range\n",
    "start_date = '2013-01-01'\n",
    "end_date = '2023-12-31'\n",
    "\n",
    "# Create an image collection and filter by date and location\n",
    "collection = (ee.ImageCollection(\"GOOGLE/DYNAMICWORLD/V1\")\n",
    "              .filterBounds(aoi)\n",
    "              .filterDate(start_date, end_date))\n",
    "\n",
    "# Select bands of interest\n",
    "selected_bands = ['water','trees','grass','flooded_vegetation','crops','shrub_and_scrub','built','bare','snow_and_ice',\t\n",
    "'label']\n",
    "\n",
    "# Iterate over each image in the collection\n",
    "for image in collection.toList(collection.size()).getInfo():\n",
    "    # Get the image ID\n",
    "    image_id = image['id']\n",
    "    \n",
    "    # Clip the image to the AOI\n",
    "    clipped_image = ee.Image(image_id).clip(aoi)\n",
    "\n",
    "# Print the size of the filtered collection\n",
    "print(\"Number of images in the filtered collection:\", collection.size().getInfo())\n",
    "    \n"
   ]
  },
  {
   "cell_type": "code",
   "execution_count": null,
   "id": "0e1f8454-7c89-4fda-b011-8b8656a6efe2",
   "metadata": {},
   "outputs": [],
   "source": [
    "from IPython.display import Image"
   ]
  },
  {
   "cell_type": "code",
   "execution_count": 23,
   "id": "0f75da97-8927-4f68-8c7f-803e25775bb5",
   "metadata": {},
   "outputs": [
    {
     "data": {
      "text/html": [
       "\n",
       "            <style>\n",
       "                .geemap-dark {\n",
       "                    --jp-widgets-color: white;\n",
       "                    --jp-widgets-label-color: white;\n",
       "                    --jp-ui-font-color1: white;\n",
       "                    --jp-layout-color2: #454545;\n",
       "                    background-color: #383838;\n",
       "                }\n",
       "\n",
       "                .geemap-dark .jupyter-button {\n",
       "                    --jp-layout-color3: #383838;\n",
       "                }\n",
       "\n",
       "                .geemap-colab {\n",
       "                    background-color: var(--colab-primary-surface-color, white);\n",
       "                }\n",
       "\n",
       "                .geemap-colab .jupyter-button {\n",
       "                    --jp-layout-color3: var(--colab-primary-surface-color, white);\n",
       "                }\n",
       "            </style>\n",
       "            "
      ],
      "text/plain": [
       "<IPython.core.display.HTML object>"
      ]
     },
     "metadata": {},
     "output_type": "display_data"
    },
    {
     "data": {
      "text/html": [
       "<img src=\"https://earthengine.googleapis.com/v1/projects/musa650-final-sk-rg/thumbnails/901284e7325bbea79780444ca2ea21dd-fec09ccf85d20272967569b151daef52:getPixels\"/>"
      ],
      "text/plain": [
       "<IPython.core.display.Image object>"
      ]
     },
     "execution_count": 23,
     "metadata": {},
     "output_type": "execute_result"
    }
   ],
   "source": [
    "# Get the first image in the collection\n",
    "first_image = collection.first()\n",
    "\n",
    "# Clip the first image to the AOI\n",
    "clipped_image = first_image.clip(aoi)\n",
    "\n",
    "# Get the image URL with specified bands\n",
    "image_url = clipped_image.getThumbURL({\n",
    "    'bands': ['water','trees','grass'],  # Specify bands for visualization\n",
    "    'dimensions': 512,  # Thumbnail size\n",
    "    'region': aoi_coords,  # Region of interest\n",
    "})\n",
    "\n",
    "# Display the image\n",
    "Image(url=image_url)"
   ]
  },
  {
   "cell_type": "code",
   "execution_count": 28,
   "id": "435effc0-81c0-466b-ac64-9abb14cd407b",
   "metadata": {},
   "outputs": [
    {
     "data": {
      "text/html": [
       "\n",
       "            <style>\n",
       "                .geemap-dark {\n",
       "                    --jp-widgets-color: white;\n",
       "                    --jp-widgets-label-color: white;\n",
       "                    --jp-ui-font-color1: white;\n",
       "                    --jp-layout-color2: #454545;\n",
       "                    background-color: #383838;\n",
       "                }\n",
       "\n",
       "                .geemap-dark .jupyter-button {\n",
       "                    --jp-layout-color3: #383838;\n",
       "                }\n",
       "\n",
       "                .geemap-colab {\n",
       "                    background-color: var(--colab-primary-surface-color, white);\n",
       "                }\n",
       "\n",
       "                .geemap-colab .jupyter-button {\n",
       "                    --jp-layout-color3: var(--colab-primary-surface-color, white);\n",
       "                }\n",
       "            </style>\n",
       "            "
      ],
      "text/plain": [
       "<IPython.core.display.HTML object>"
      ]
     },
     "metadata": {},
     "output_type": "display_data"
    },
    {
     "data": {
      "text/html": [
       "<img src=\"https://earthengine.googleapis.com/v1/projects/musa650-final-sk-rg/thumbnails/4bb68c9be0b5e637b46d1b0b7b87eb22-dd09108d3a0ffb2a1a5271c58cf216dc:getPixels\"/>"
      ],
      "text/plain": [
       "<IPython.core.display.Image object>"
      ]
     },
     "execution_count": 28,
     "metadata": {},
     "output_type": "execute_result"
    }
   ],
   "source": [
    "# Limit the collection to the first two images\n",
    "limited_collection = collection.limit(871)\n",
    "\n",
    "# Get the second image in the limited collection\n",
    "selected_image = limited_collection.toList(871).get(1)\n",
    "\n",
    "# Clip the selected image to the AOI\n",
    "clipped_image = ee.Image(selected_image).clip(aoi)\n",
    "\n",
    "# Get the image URL with specified bands\n",
    "image_url = clipped_image.getThumbURL({\n",
    "    'bands': ['water', 'trees', 'grass'],  # Specify bands for visualization\n",
    "    'dimensions': 512,  # Thumbnail size\n",
    "    'region': aoi_coords,  # Region of interest\n",
    "})\n",
    "\n",
    "# Display the image\n",
    "Image(url=image_url)"
   ]
  },
  {
   "cell_type": "code",
   "execution_count": null,
   "id": "e7c128e9-3dcd-4689-9845-5b13e5b59559",
   "metadata": {},
   "outputs": [],
   "source": []
  },
  {
   "cell_type": "code",
   "execution_count": null,
   "id": "9b0a8bfa-654a-4b40-9d15-1cfba12ebeb6",
   "metadata": {},
   "outputs": [],
   "source": []
  }
 ],
 "metadata": {
  "kernelspec": {
   "display_name": "Python 3 (ipykernel)",
   "language": "python",
   "name": "python3"
  },
  "language_info": {
   "codemirror_mode": {
    "name": "ipython",
    "version": 3
   },
   "file_extension": ".py",
   "mimetype": "text/x-python",
   "name": "python",
   "nbconvert_exporter": "python",
   "pygments_lexer": "ipython3",
   "version": "3.9.18"
  }
 },
 "nbformat": 4,
 "nbformat_minor": 5
}
