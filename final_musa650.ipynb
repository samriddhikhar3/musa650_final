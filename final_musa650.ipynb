{
 "cells": [
  {
   "cell_type": "code",
   "execution_count": 5,
   "id": "ac4198c5-cc18-4464-8fd7-91b935b5d961",
   "metadata": {},
   "outputs": [],
   "source": [
    "# !pip install Unidecode && pip install rasterio\n",
    "\n"
   ]
  },
  {
   "cell_type": "code",
   "execution_count": 6,
   "id": "ea6b9b53-4ec1-4a74-9609-90f83fe54424",
   "metadata": {},
   "outputs": [],
   "source": [
    "# !pip install ee"
   ]
  },
  {
   "cell_type": "code",
   "execution_count": 2,
   "id": "cbf22172-a5de-4063-857f-79370a5abea3",
   "metadata": {},
   "outputs": [
    {
     "name": "stderr",
     "output_type": "stream",
     "text": [
      "ERROR: Could not find a version that satisfies the requirement arcpy (from versions: none)\n",
      "ERROR: No matching distribution found for arcpy\n"
     ]
    }
   ],
   "source": [
    "#!pip install arcpy"
   ]
  },
  {
   "cell_type": "code",
   "execution_count": 6,
   "id": "baea094a-7540-4e8c-adb6-f7c1bd6526b8",
   "metadata": {},
   "outputs": [],
   "source": [
    "#!pip install geopandas"
   ]
  },
  {
   "cell_type": "code",
   "execution_count": 8,
   "id": "c1e2355f-ade9-4187-89e1-32f2f28d0107",
   "metadata": {},
   "outputs": [],
   "source": [
    "#!pip install geemap"
   ]
  },
  {
   "cell_type": "code",
   "execution_count": 4,
   "id": "2eb12db8-5bd5-4804-aa96-fce55639bf0f",
   "metadata": {},
   "outputs": [
    {
     "data": {
      "text/html": [
       "\n",
       "            <style>\n",
       "                .geemap-dark {\n",
       "                    --jp-widgets-color: white;\n",
       "                    --jp-widgets-label-color: white;\n",
       "                    --jp-ui-font-color1: white;\n",
       "                    --jp-layout-color2: #454545;\n",
       "                    background-color: #383838;\n",
       "                }\n",
       "\n",
       "                .geemap-dark .jupyter-button {\n",
       "                    --jp-layout-color3: #383838;\n",
       "                }\n",
       "\n",
       "                .geemap-colab {\n",
       "                    background-color: var(--colab-primary-surface-color, white);\n",
       "                }\n",
       "\n",
       "                .geemap-colab .jupyter-button {\n",
       "                    --jp-layout-color3: var(--colab-primary-surface-color, white);\n",
       "                }\n",
       "            </style>\n",
       "            "
      ],
      "text/plain": [
       "<IPython.core.display.HTML object>"
      ]
     },
     "metadata": {},
     "output_type": "display_data"
    }
   ],
   "source": [
    "import ee\n",
    "import geemap"
   ]
  },
  {
   "cell_type": "code",
   "execution_count": 11,
   "id": "a771b65b-bf96-4e01-bed9-b322953bd830",
   "metadata": {},
   "outputs": [
    {
     "data": {
      "text/html": [
       "\n",
       "            <style>\n",
       "                .geemap-dark {\n",
       "                    --jp-widgets-color: white;\n",
       "                    --jp-widgets-label-color: white;\n",
       "                    --jp-ui-font-color1: white;\n",
       "                    --jp-layout-color2: #454545;\n",
       "                    background-color: #383838;\n",
       "                }\n",
       "\n",
       "                .geemap-dark .jupyter-button {\n",
       "                    --jp-layout-color3: #383838;\n",
       "                }\n",
       "\n",
       "                .geemap-colab {\n",
       "                    background-color: var(--colab-primary-surface-color, white);\n",
       "                }\n",
       "\n",
       "                .geemap-colab .jupyter-button {\n",
       "                    --jp-layout-color3: var(--colab-primary-surface-color, white);\n",
       "                }\n",
       "            </style>\n",
       "            "
      ],
      "text/plain": [
       "<IPython.core.display.HTML object>"
      ]
     },
     "metadata": {},
     "output_type": "display_data"
    }
   ],
   "source": [
    "\n",
    "import rasterio\n",
    "from rasterio.plot import show"
   ]
  },
  {
   "cell_type": "code",
   "execution_count": 39,
   "id": "cfb6613c-c179-4ae6-8136-2e46187d3bea",
   "metadata": {},
   "outputs": [
    {
     "data": {
      "text/html": [
       "\n",
       "            <style>\n",
       "                .geemap-dark {\n",
       "                    --jp-widgets-color: white;\n",
       "                    --jp-widgets-label-color: white;\n",
       "                    --jp-ui-font-color1: white;\n",
       "                    --jp-layout-color2: #454545;\n",
       "                    background-color: #383838;\n",
       "                }\n",
       "\n",
       "                .geemap-dark .jupyter-button {\n",
       "                    --jp-layout-color3: #383838;\n",
       "                }\n",
       "\n",
       "                .geemap-colab {\n",
       "                    background-color: var(--colab-primary-surface-color, white);\n",
       "                }\n",
       "\n",
       "                .geemap-colab .jupyter-button {\n",
       "                    --jp-layout-color3: var(--colab-primary-surface-color, white);\n",
       "                }\n",
       "            </style>\n",
       "            "
      ],
      "text/plain": [
       "<IPython.core.display.HTML object>"
      ]
     },
     "metadata": {},
     "output_type": "display_data"
    },
    {
     "name": "stdout",
     "output_type": "stream",
     "text": [
      "To authorize access needed by Earth Engine, open the following URL in a web browser and follow the instructions. If the web browser does not start automatically, please manually browse the URL below.\n",
      "\n",
      "    https://accounts.google.com/o/oauth2/auth?client_id=517222506229-vsmmajv00ul0bs7p89v5m89qs8eb9359.apps.googleusercontent.com&scope=https%3A%2F%2Fwww.googleapis.com%2Fauth%2Fearthengine+https%3A%2F%2Fwww.googleapis.com%2Fauth%2Fcloud-platform+https%3A%2F%2Fwww.googleapis.com%2Fauth%2Fdevstorage.full_control&redirect_uri=http%3A%2F%2Flocalhost%3A8085&response_type=code&code_challenge=QcvQi1GEdT-Pvxh7cNMBhNalsVaZ8s71HDeVBYy5WnQ&code_challenge_method=S256\n",
      "\n",
      "Waiting for successful authorization from web browser ...\n",
      "\n",
      "Successfully saved authorization token.\n",
      "Number of images in the filtered collection: 966\n"
     ]
    }
   ],
   "source": [
    "# Authenticate and initialize Earth Engine\n",
    "\n",
    "!earthengine authenticate --force\n",
    "\n",
    "#ee.Initialize()\n",
    "#ee.Authenticate()\n",
    "\n",
    "# Specify your Earth Engine project ID\n",
    "project_id = 'musa650-final-sk-rg'\n",
    "\n",
    "# Initialize Earth Engine with your project ID\n",
    "ee.Initialize(project=project_id)\n",
    "\n",
    "# Define the area of interest (AOI) as a GeoJSON polygon\n",
    "aoi_coords = [\n",
    "    [92.59850521269148,26.444817468598444],\n",
    "    [93.10112972441023,26.444817468598444],\n",
    "    [93.10112972441023,26.876818694646087],\n",
    "    [92.59850521269148,26.876818694646087],\n",
    "    [92.59850521269148,26.444817468598444]]\n",
    "\n",
    "aoi = ee.Geometry.Polygon(aoi_coords)\n",
    "\n",
    "# Define the time range\n",
    "start_date = '2013-01-01'\n",
    "end_date = '2023-12-31'\n",
    "\n",
    "# Create an image collection and filter by date and location\n",
    "collection = (ee.ImageCollection(\"GOOGLE/DYNAMICWORLD/V1\")\n",
    "              .filterBounds(aoi)\n",
    "              .filterDate(start_date, end_date))\n",
    "\n",
    "# Select bands of interest\n",
    "selected_bands = ['water','trees','grass','flooded_vegetation','crops','shrub_and_scrub','built','bare','snow_and_ice',\t\n",
    "'label']\n",
    "\n",
    "# Iterate over each image in the collection\n",
    "for image in collection.toList(collection.size()).getInfo():\n",
    "    # Get the image ID\n",
    "    image_id = image['id']\n",
    "    \n",
    "    # Clip the image to the AOI\n",
    "    clipped_image = ee.Image(image_id).clip(aoi)\n",
    "\n",
    "# Print the size of the filtered collection\n",
    "print(\"Number of images in the filtered collection:\", collection.size().getInfo())\n",
    "    \n"
   ]
  },
  {
   "cell_type": "code",
   "execution_count": null,
   "id": "0e1f8454-7c89-4fda-b011-8b8656a6efe2",
   "metadata": {},
   "outputs": [],
   "source": [
    "from IPython.display import Image"
   ]
  },
  {
   "cell_type": "code",
   "execution_count": 53,
   "id": "0f75da97-8927-4f68-8c7f-803e25775bb5",
   "metadata": {},
   "outputs": [
    {
     "data": {
      "text/html": [
       "\n",
       "            <style>\n",
       "                .geemap-dark {\n",
       "                    --jp-widgets-color: white;\n",
       "                    --jp-widgets-label-color: white;\n",
       "                    --jp-ui-font-color1: white;\n",
       "                    --jp-layout-color2: #454545;\n",
       "                    background-color: #383838;\n",
       "                }\n",
       "\n",
       "                .geemap-dark .jupyter-button {\n",
       "                    --jp-layout-color3: #383838;\n",
       "                }\n",
       "\n",
       "                .geemap-colab {\n",
       "                    background-color: var(--colab-primary-surface-color, white);\n",
       "                }\n",
       "\n",
       "                .geemap-colab .jupyter-button {\n",
       "                    --jp-layout-color3: var(--colab-primary-surface-color, white);\n",
       "                }\n",
       "            </style>\n",
       "            "
      ],
      "text/plain": [
       "<IPython.core.display.HTML object>"
      ]
     },
     "metadata": {},
     "output_type": "display_data"
    },
    {
     "data": {
      "text/html": [
       "<img src=\"https://earthengine.googleapis.com/v1/projects/musa650-final-sk-rg/thumbnails/118d0c6fc2121b8c3c2a1b119cf33128-b49e04ba42cdb979221ac6bd437ad66a:getPixels\"/>"
      ],
      "text/plain": [
       "<IPython.core.display.Image object>"
      ]
     },
     "execution_count": 53,
     "metadata": {},
     "output_type": "execute_result"
    }
   ],
   "source": [
    "# Get the first image in the collection\n",
    "first_image = collection.first()\n",
    "\n",
    "# Clip the first image to the AOI\n",
    "clipped_image = first_image.clip(aoi)\n",
    "\n",
    "# Get the image URL with specified bands\n",
    "image_url = clipped_image.getThumbURL({\n",
    "    'bands': ['water','trees','grass'],  # Specify bands for visualization\n",
    "    'dimensions': 512,  # Thumbnail size\n",
    "    'region': aoi_coords,  # Region of interest\n",
    "})\n",
    "\n",
    "# Display the image\n",
    "Image(url=image_url)"
   ]
  },
  {
   "cell_type": "code",
   "execution_count": 57,
   "id": "435effc0-81c0-466b-ac64-9abb14cd407b",
   "metadata": {},
   "outputs": [
    {
     "data": {
      "text/html": [
       "\n",
       "            <style>\n",
       "                .geemap-dark {\n",
       "                    --jp-widgets-color: white;\n",
       "                    --jp-widgets-label-color: white;\n",
       "                    --jp-ui-font-color1: white;\n",
       "                    --jp-layout-color2: #454545;\n",
       "                    background-color: #383838;\n",
       "                }\n",
       "\n",
       "                .geemap-dark .jupyter-button {\n",
       "                    --jp-layout-color3: #383838;\n",
       "                }\n",
       "\n",
       "                .geemap-colab {\n",
       "                    background-color: var(--colab-primary-surface-color, white);\n",
       "                }\n",
       "\n",
       "                .geemap-colab .jupyter-button {\n",
       "                    --jp-layout-color3: var(--colab-primary-surface-color, white);\n",
       "                }\n",
       "            </style>\n",
       "            "
      ],
      "text/plain": [
       "<IPython.core.display.HTML object>"
      ]
     },
     "metadata": {},
     "output_type": "display_data"
    },
    {
     "data": {
      "text/html": [
       "<img src=\"https://earthengine.googleapis.com/v1/projects/musa650-final-sk-rg/thumbnails/da845c154759c33caad4488292aaf1ec-e5c8a6826da8b24f0c21409e1e959882:getPixels\"/>"
      ],
      "text/plain": [
       "<IPython.core.display.Image object>"
      ]
     },
     "execution_count": 57,
     "metadata": {},
     "output_type": "execute_result"
    }
   ],
   "source": [
    "# Limit the collection to the first two images\n",
    "limited_collection = collection.limit(900)\n",
    "\n",
    "# Get the second image in the limited collection\n",
    "selected_image = limited_collection.toList(967).get(1)\n",
    "\n",
    "# Clip the selected image to the AOI\n",
    "clipped_image = ee.Image(selected_image).clip(aoi)\n",
    "\n",
    "# Get the image URL with specified bands\n",
    "image_url = clipped_image.getThumbURL({\n",
    "    'bands': ['water', 'trees', 'grass'],  # Specify bands for visualization\n",
    "    'dimensions': 512,  # Thumbnail size\n",
    "    #'region': aoi_coords,  # Region of interest\n",
    "})\n",
    "\n",
    "# Display the image\n",
    "Image(url=image_url)"
   ]
  },
  {
   "cell_type": "code",
   "execution_count": 32,
   "id": "e7c128e9-3dcd-4689-9845-5b13e5b59559",
   "metadata": {},
   "outputs": [
    {
     "data": {
      "text/html": [
       "\n",
       "            <style>\n",
       "                .geemap-dark {\n",
       "                    --jp-widgets-color: white;\n",
       "                    --jp-widgets-label-color: white;\n",
       "                    --jp-ui-font-color1: white;\n",
       "                    --jp-layout-color2: #454545;\n",
       "                    background-color: #383838;\n",
       "                }\n",
       "\n",
       "                .geemap-dark .jupyter-button {\n",
       "                    --jp-layout-color3: #383838;\n",
       "                }\n",
       "\n",
       "                .geemap-colab {\n",
       "                    background-color: var(--colab-primary-surface-color, white);\n",
       "                }\n",
       "\n",
       "                .geemap-colab .jupyter-button {\n",
       "                    --jp-layout-color3: var(--colab-primary-surface-color, white);\n",
       "                }\n",
       "            </style>\n",
       "            "
      ],
      "text/plain": [
       "<IPython.core.display.HTML object>"
      ]
     },
     "metadata": {},
     "output_type": "display_data"
    },
    {
     "name": "stdout",
     "output_type": "stream",
     "text": [
      "First image with label: 20151206T042142_20151206T042447_T46RDQ\n"
     ]
    }
   ],
   "source": [
    "# Define a function to add a metadata property with unique label names to each image\n",
    "def addLabel(image):\n",
    "    # Get the image ID\n",
    "    image_id = image.id()\n",
    "    # Add a metadata property with a unique label name\n",
    "    return image.set('label', image_id)\n",
    "\n",
    "# Apply the function to each image in the collection to add unique label names\n",
    "labeled_collection = collection.map(addLabel)\n",
    "\n",
    "# Print the first image in the collection to verify that the label property has been added\n",
    "first_image = labeled_collection.first()\n",
    "print(\"First image with label:\", first_image.get('label').getInfo())"
   ]
  },
  {
   "cell_type": "code",
   "execution_count": 60,
   "id": "9b0a8bfa-654a-4b40-9d15-1cfba12ebeb6",
   "metadata": {},
   "outputs": [
    {
     "data": {
      "text/html": [
       "\n",
       "            <style>\n",
       "                .geemap-dark {\n",
       "                    --jp-widgets-color: white;\n",
       "                    --jp-widgets-label-color: white;\n",
       "                    --jp-ui-font-color1: white;\n",
       "                    --jp-layout-color2: #454545;\n",
       "                    background-color: #383838;\n",
       "                }\n",
       "\n",
       "                .geemap-dark .jupyter-button {\n",
       "                    --jp-layout-color3: #383838;\n",
       "                }\n",
       "\n",
       "                .geemap-colab {\n",
       "                    background-color: var(--colab-primary-surface-color, white);\n",
       "                }\n",
       "\n",
       "                .geemap-colab .jupyter-button {\n",
       "                    --jp-layout-color3: var(--colab-primary-surface-color, white);\n",
       "                }\n",
       "            </style>\n",
       "            "
      ],
      "text/plain": [
       "<IPython.core.display.HTML object>"
      ]
     },
     "metadata": {},
     "output_type": "display_data"
    }
   ],
   "source": [
    "# Extract label names from the images in the collection\n",
    "label_names = labeled_collection.aggregate_array('label').getInfo()\n",
    "\n",
    "# Print the list of label names\n",
    "#print(\"List of label names:\")\n",
    "#print(label_names)"
   ]
  },
  {
   "cell_type": "code",
   "execution_count": 59,
   "id": "95ecde55-6ca4-47b6-a166-35a37ab85dfd",
   "metadata": {},
   "outputs": [
    {
     "data": {
      "text/html": [
       "\n",
       "            <style>\n",
       "                .geemap-dark {\n",
       "                    --jp-widgets-color: white;\n",
       "                    --jp-widgets-label-color: white;\n",
       "                    --jp-ui-font-color1: white;\n",
       "                    --jp-layout-color2: #454545;\n",
       "                    background-color: #383838;\n",
       "                }\n",
       "\n",
       "                .geemap-dark .jupyter-button {\n",
       "                    --jp-layout-color3: #383838;\n",
       "                }\n",
       "\n",
       "                .geemap-colab {\n",
       "                    background-color: var(--colab-primary-surface-color, white);\n",
       "                }\n",
       "\n",
       "                .geemap-colab .jupyter-button {\n",
       "                    --jp-layout-color3: var(--colab-primary-surface-color, white);\n",
       "                }\n",
       "            </style>\n",
       "            "
      ],
      "text/plain": [
       "<IPython.core.display.HTML object>"
      ]
     },
     "metadata": {},
     "output_type": "display_data"
    },
    {
     "data": {
      "text/html": [
       "<img src=\"https://earthengine.googleapis.com/v1/projects/musa650-final-sk-rg/thumbnails/f9e124324c45b523fcfdc92cf9de1d69-8dff6a5fd135d43cbcfa2db81ad3c6d3:getPixels\"/>"
      ],
      "text/plain": [
       "<IPython.core.display.Image object>"
      ]
     },
     "execution_count": 59,
     "metadata": {},
     "output_type": "execute_result"
    }
   ],
   "source": [
    "# Define the label of the image you want to print\n",
    "specific_label = \"20161024T042832_20161024T095904_T46RDQ\"  # Replace SPECIFIC_LABEL_ID with the desired label\n",
    "\n",
    "# Filter the collection to get the image with the specific label\n",
    "specific_image = labeled_collection.filterMetadata('label', 'equals', specific_label).first()\n",
    "\n",
    "# Get the thumbnail URL for the specific image\n",
    "specific_image_url = getThumbnailUrl(specific_image)\n",
    "\n",
    "# Display the specific image\n",
    "Image(url=specific_image_url)"
   ]
  },
  {
   "cell_type": "code",
   "execution_count": 30,
   "id": "b909f84e-d538-4762-94e1-7f382229f5db",
   "metadata": {},
   "outputs": [
    {
     "data": {
      "text/html": [
       "\n",
       "            <style>\n",
       "                .geemap-dark {\n",
       "                    --jp-widgets-color: white;\n",
       "                    --jp-widgets-label-color: white;\n",
       "                    --jp-ui-font-color1: white;\n",
       "                    --jp-layout-color2: #454545;\n",
       "                    background-color: #383838;\n",
       "                }\n",
       "\n",
       "                .geemap-dark .jupyter-button {\n",
       "                    --jp-layout-color3: #383838;\n",
       "                }\n",
       "\n",
       "                .geemap-colab {\n",
       "                    background-color: var(--colab-primary-surface-color, white);\n",
       "                }\n",
       "\n",
       "                .geemap-colab .jupyter-button {\n",
       "                    --jp-layout-color3: var(--colab-primary-surface-color, white);\n",
       "                }\n",
       "            </style>\n",
       "            "
      ],
      "text/plain": [
       "<IPython.core.display.HTML object>"
      ]
     },
     "metadata": {},
     "output_type": "display_data"
    }
   ],
   "source": [
    "import os\n"
   ]
  },
  {
   "cell_type": "code",
   "execution_count": 37,
   "id": "6bfdb1d5-3d99-4a7f-8acd-d985d41c1a19",
   "metadata": {},
   "outputs": [
    {
     "data": {
      "text/html": [
       "\n",
       "            <style>\n",
       "                .geemap-dark {\n",
       "                    --jp-widgets-color: white;\n",
       "                    --jp-widgets-label-color: white;\n",
       "                    --jp-ui-font-color1: white;\n",
       "                    --jp-layout-color2: #454545;\n",
       "                    background-color: #383838;\n",
       "                }\n",
       "\n",
       "                .geemap-dark .jupyter-button {\n",
       "                    --jp-layout-color3: #383838;\n",
       "                }\n",
       "\n",
       "                .geemap-colab {\n",
       "                    background-color: var(--colab-primary-surface-color, white);\n",
       "                }\n",
       "\n",
       "                .geemap-colab .jupyter-button {\n",
       "                    --jp-layout-color3: var(--colab-primary-surface-color, white);\n",
       "                }\n",
       "            </style>\n",
       "            "
      ],
      "text/plain": [
       "<IPython.core.display.HTML object>"
      ]
     },
     "metadata": {},
     "output_type": "display_data"
    }
   ],
   "source": [
    "#!pip install pylandstats"
   ]
  },
  {
   "cell_type": "code",
   "execution_count": 38,
   "id": "ee233e65-2212-44a1-ab01-9d1ebe0b5c84",
   "metadata": {},
   "outputs": [
    {
     "data": {
      "text/html": [
       "\n",
       "            <style>\n",
       "                .geemap-dark {\n",
       "                    --jp-widgets-color: white;\n",
       "                    --jp-widgets-label-color: white;\n",
       "                    --jp-ui-font-color1: white;\n",
       "                    --jp-layout-color2: #454545;\n",
       "                    background-color: #383838;\n",
       "                }\n",
       "\n",
       "                .geemap-dark .jupyter-button {\n",
       "                    --jp-layout-color3: #383838;\n",
       "                }\n",
       "\n",
       "                .geemap-colab {\n",
       "                    background-color: var(--colab-primary-surface-color, white);\n",
       "                }\n",
       "\n",
       "                .geemap-colab .jupyter-button {\n",
       "                    --jp-layout-color3: var(--colab-primary-surface-color, white);\n",
       "                }\n",
       "            </style>\n",
       "            "
      ],
      "text/plain": [
       "<IPython.core.display.HTML object>"
      ]
     },
     "metadata": {},
     "output_type": "display_data"
    },
    {
     "name": "stderr",
     "output_type": "stream",
     "text": [
      "Module D:\\Fall_2023\\Python\\Mambaforge\\envs\\musa-650\\lib\\site-packages\\pylandstats\\landscape.py has not been compiled for Transonic-Numba\n"
     ]
    }
   ],
   "source": [
    "import numpy as np\n",
    "import time\n",
    "from pylandstats import Landscape"
   ]
  },
  {
   "cell_type": "code",
   "execution_count": null,
   "id": "e52b75e1-334e-4fbf-835b-1f153fa66781",
   "metadata": {},
   "outputs": [],
   "source": []
  }
 ],
 "metadata": {
  "kernelspec": {
   "display_name": "Python 3 (ipykernel)",
   "language": "python",
   "name": "python3"
  },
  "language_info": {
   "codemirror_mode": {
    "name": "ipython",
    "version": 3
   },
   "file_extension": ".py",
   "mimetype": "text/x-python",
   "name": "python",
   "nbconvert_exporter": "python",
   "pygments_lexer": "ipython3",
   "version": "3.9.18"
  }
 },
 "nbformat": 4,
 "nbformat_minor": 5
}
